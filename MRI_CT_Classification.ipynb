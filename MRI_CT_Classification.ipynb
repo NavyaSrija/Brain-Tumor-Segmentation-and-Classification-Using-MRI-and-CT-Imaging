{
  "nbformat": 4,
  "nbformat_minor": 0,
  "metadata": {
    "colab": {
      "provenance": [],
      "gpuType": "T4",
      "authorship_tag": "ABX9TyNZhXpsdGlfUweYmjLMWBjJ",
      "include_colab_link": true
    },
    "kernelspec": {
      "name": "python3",
      "display_name": "Python 3"
    },
    "language_info": {
      "name": "python"
    },
    "widgets": {
      "application/vnd.jupyter.widget-state+json": {
        "5e88c076422f47719f17f37e4d58887e": {
          "model_module": "@jupyter-widgets/controls",
          "model_name": "HBoxModel",
          "model_module_version": "1.5.0",
          "state": {
            "_dom_classes": [],
            "_model_module": "@jupyter-widgets/controls",
            "_model_module_version": "1.5.0",
            "_model_name": "HBoxModel",
            "_view_count": null,
            "_view_module": "@jupyter-widgets/controls",
            "_view_module_version": "1.5.0",
            "_view_name": "HBoxView",
            "box_style": "",
            "children": [
              "IPY_MODEL_07282fc9529e40928e6a35a13389b458",
              "IPY_MODEL_12c682f56ecc4ebcb72c8a7b3a4ee977",
              "IPY_MODEL_7b974eafdedf4d0ea20d00f085597430"
            ],
            "layout": "IPY_MODEL_0fa1aea4be3445af80cafa1783a2c94c"
          }
        },
        "07282fc9529e40928e6a35a13389b458": {
          "model_module": "@jupyter-widgets/controls",
          "model_name": "HTMLModel",
          "model_module_version": "1.5.0",
          "state": {
            "_dom_classes": [],
            "_model_module": "@jupyter-widgets/controls",
            "_model_module_version": "1.5.0",
            "_model_name": "HTMLModel",
            "_view_count": null,
            "_view_module": "@jupyter-widgets/controls",
            "_view_module_version": "1.5.0",
            "_view_name": "HTMLView",
            "description": "",
            "description_tooltip": null,
            "layout": "IPY_MODEL_f93563eef5aa434397adcab4533495ed",
            "placeholder": "​",
            "style": "IPY_MODEL_e99cfb835c2642838e5126153bbcbd8e",
            "value": "model.safetensors: 100%"
          }
        },
        "12c682f56ecc4ebcb72c8a7b3a4ee977": {
          "model_module": "@jupyter-widgets/controls",
          "model_name": "FloatProgressModel",
          "model_module_version": "1.5.0",
          "state": {
            "_dom_classes": [],
            "_model_module": "@jupyter-widgets/controls",
            "_model_module_version": "1.5.0",
            "_model_name": "FloatProgressModel",
            "_view_count": null,
            "_view_module": "@jupyter-widgets/controls",
            "_view_module_version": "1.5.0",
            "_view_name": "ProgressView",
            "bar_style": "success",
            "description": "",
            "description_tooltip": null,
            "layout": "IPY_MODEL_21af287ffc57442489b83384c623d803",
            "max": 21355344,
            "min": 0,
            "orientation": "horizontal",
            "style": "IPY_MODEL_0713bf4e757d46c5b2947cc4a698aec7",
            "value": 21355344
          }
        },
        "7b974eafdedf4d0ea20d00f085597430": {
          "model_module": "@jupyter-widgets/controls",
          "model_name": "HTMLModel",
          "model_module_version": "1.5.0",
          "state": {
            "_dom_classes": [],
            "_model_module": "@jupyter-widgets/controls",
            "_model_module_version": "1.5.0",
            "_model_name": "HTMLModel",
            "_view_count": null,
            "_view_module": "@jupyter-widgets/controls",
            "_view_module_version": "1.5.0",
            "_view_name": "HTMLView",
            "description": "",
            "description_tooltip": null,
            "layout": "IPY_MODEL_9305d640486b40afac367991b4de705b",
            "placeholder": "​",
            "style": "IPY_MODEL_2db28be7823f4d7b9c524c1868e5c582",
            "value": " 21.4M/21.4M [00:00&lt;00:00, 64.7MB/s]"
          }
        },
        "0fa1aea4be3445af80cafa1783a2c94c": {
          "model_module": "@jupyter-widgets/base",
          "model_name": "LayoutModel",
          "model_module_version": "1.2.0",
          "state": {
            "_model_module": "@jupyter-widgets/base",
            "_model_module_version": "1.2.0",
            "_model_name": "LayoutModel",
            "_view_count": null,
            "_view_module": "@jupyter-widgets/base",
            "_view_module_version": "1.2.0",
            "_view_name": "LayoutView",
            "align_content": null,
            "align_items": null,
            "align_self": null,
            "border": null,
            "bottom": null,
            "display": null,
            "flex": null,
            "flex_flow": null,
            "grid_area": null,
            "grid_auto_columns": null,
            "grid_auto_flow": null,
            "grid_auto_rows": null,
            "grid_column": null,
            "grid_gap": null,
            "grid_row": null,
            "grid_template_areas": null,
            "grid_template_columns": null,
            "grid_template_rows": null,
            "height": null,
            "justify_content": null,
            "justify_items": null,
            "left": null,
            "margin": null,
            "max_height": null,
            "max_width": null,
            "min_height": null,
            "min_width": null,
            "object_fit": null,
            "object_position": null,
            "order": null,
            "overflow": null,
            "overflow_x": null,
            "overflow_y": null,
            "padding": null,
            "right": null,
            "top": null,
            "visibility": null,
            "width": null
          }
        },
        "f93563eef5aa434397adcab4533495ed": {
          "model_module": "@jupyter-widgets/base",
          "model_name": "LayoutModel",
          "model_module_version": "1.2.0",
          "state": {
            "_model_module": "@jupyter-widgets/base",
            "_model_module_version": "1.2.0",
            "_model_name": "LayoutModel",
            "_view_count": null,
            "_view_module": "@jupyter-widgets/base",
            "_view_module_version": "1.2.0",
            "_view_name": "LayoutView",
            "align_content": null,
            "align_items": null,
            "align_self": null,
            "border": null,
            "bottom": null,
            "display": null,
            "flex": null,
            "flex_flow": null,
            "grid_area": null,
            "grid_auto_columns": null,
            "grid_auto_flow": null,
            "grid_auto_rows": null,
            "grid_column": null,
            "grid_gap": null,
            "grid_row": null,
            "grid_template_areas": null,
            "grid_template_columns": null,
            "grid_template_rows": null,
            "height": null,
            "justify_content": null,
            "justify_items": null,
            "left": null,
            "margin": null,
            "max_height": null,
            "max_width": null,
            "min_height": null,
            "min_width": null,
            "object_fit": null,
            "object_position": null,
            "order": null,
            "overflow": null,
            "overflow_x": null,
            "overflow_y": null,
            "padding": null,
            "right": null,
            "top": null,
            "visibility": null,
            "width": null
          }
        },
        "e99cfb835c2642838e5126153bbcbd8e": {
          "model_module": "@jupyter-widgets/controls",
          "model_name": "DescriptionStyleModel",
          "model_module_version": "1.5.0",
          "state": {
            "_model_module": "@jupyter-widgets/controls",
            "_model_module_version": "1.5.0",
            "_model_name": "DescriptionStyleModel",
            "_view_count": null,
            "_view_module": "@jupyter-widgets/base",
            "_view_module_version": "1.2.0",
            "_view_name": "StyleView",
            "description_width": ""
          }
        },
        "21af287ffc57442489b83384c623d803": {
          "model_module": "@jupyter-widgets/base",
          "model_name": "LayoutModel",
          "model_module_version": "1.2.0",
          "state": {
            "_model_module": "@jupyter-widgets/base",
            "_model_module_version": "1.2.0",
            "_model_name": "LayoutModel",
            "_view_count": null,
            "_view_module": "@jupyter-widgets/base",
            "_view_module_version": "1.2.0",
            "_view_name": "LayoutView",
            "align_content": null,
            "align_items": null,
            "align_self": null,
            "border": null,
            "bottom": null,
            "display": null,
            "flex": null,
            "flex_flow": null,
            "grid_area": null,
            "grid_auto_columns": null,
            "grid_auto_flow": null,
            "grid_auto_rows": null,
            "grid_column": null,
            "grid_gap": null,
            "grid_row": null,
            "grid_template_areas": null,
            "grid_template_columns": null,
            "grid_template_rows": null,
            "height": null,
            "justify_content": null,
            "justify_items": null,
            "left": null,
            "margin": null,
            "max_height": null,
            "max_width": null,
            "min_height": null,
            "min_width": null,
            "object_fit": null,
            "object_position": null,
            "order": null,
            "overflow": null,
            "overflow_x": null,
            "overflow_y": null,
            "padding": null,
            "right": null,
            "top": null,
            "visibility": null,
            "width": null
          }
        },
        "0713bf4e757d46c5b2947cc4a698aec7": {
          "model_module": "@jupyter-widgets/controls",
          "model_name": "ProgressStyleModel",
          "model_module_version": "1.5.0",
          "state": {
            "_model_module": "@jupyter-widgets/controls",
            "_model_module_version": "1.5.0",
            "_model_name": "ProgressStyleModel",
            "_view_count": null,
            "_view_module": "@jupyter-widgets/base",
            "_view_module_version": "1.2.0",
            "_view_name": "StyleView",
            "bar_color": null,
            "description_width": ""
          }
        },
        "9305d640486b40afac367991b4de705b": {
          "model_module": "@jupyter-widgets/base",
          "model_name": "LayoutModel",
          "model_module_version": "1.2.0",
          "state": {
            "_model_module": "@jupyter-widgets/base",
            "_model_module_version": "1.2.0",
            "_model_name": "LayoutModel",
            "_view_count": null,
            "_view_module": "@jupyter-widgets/base",
            "_view_module_version": "1.2.0",
            "_view_name": "LayoutView",
            "align_content": null,
            "align_items": null,
            "align_self": null,
            "border": null,
            "bottom": null,
            "display": null,
            "flex": null,
            "flex_flow": null,
            "grid_area": null,
            "grid_auto_columns": null,
            "grid_auto_flow": null,
            "grid_auto_rows": null,
            "grid_column": null,
            "grid_gap": null,
            "grid_row": null,
            "grid_template_areas": null,
            "grid_template_columns": null,
            "grid_template_rows": null,
            "height": null,
            "justify_content": null,
            "justify_items": null,
            "left": null,
            "margin": null,
            "max_height": null,
            "max_width": null,
            "min_height": null,
            "min_width": null,
            "object_fit": null,
            "object_position": null,
            "order": null,
            "overflow": null,
            "overflow_x": null,
            "overflow_y": null,
            "padding": null,
            "right": null,
            "top": null,
            "visibility": null,
            "width": null
          }
        },
        "2db28be7823f4d7b9c524c1868e5c582": {
          "model_module": "@jupyter-widgets/controls",
          "model_name": "DescriptionStyleModel",
          "model_module_version": "1.5.0",
          "state": {
            "_model_module": "@jupyter-widgets/controls",
            "_model_module_version": "1.5.0",
            "_model_name": "DescriptionStyleModel",
            "_view_count": null,
            "_view_module": "@jupyter-widgets/base",
            "_view_module_version": "1.2.0",
            "_view_name": "StyleView",
            "description_width": ""
          }
        },
        "101337c781c04dd78548e6ae1d5ce9dc": {
          "model_module": "@jupyter-widgets/controls",
          "model_name": "HBoxModel",
          "model_module_version": "1.5.0",
          "state": {
            "_dom_classes": [],
            "_model_module": "@jupyter-widgets/controls",
            "_model_module_version": "1.5.0",
            "_model_name": "HBoxModel",
            "_view_count": null,
            "_view_module": "@jupyter-widgets/controls",
            "_view_module_version": "1.5.0",
            "_view_name": "HBoxView",
            "box_style": "",
            "children": [
              "IPY_MODEL_9f09c171e7f24af996ff1995c465b8ab",
              "IPY_MODEL_56cea02a54e0465f80a8841ea9d7c188",
              "IPY_MODEL_13bc04ccd4824875b89ca5ed1d23c06b"
            ],
            "layout": "IPY_MODEL_daaf3c85383c47458b9c7b0cb05f3822"
          }
        },
        "9f09c171e7f24af996ff1995c465b8ab": {
          "model_module": "@jupyter-widgets/controls",
          "model_name": "HTMLModel",
          "model_module_version": "1.5.0",
          "state": {
            "_dom_classes": [],
            "_model_module": "@jupyter-widgets/controls",
            "_model_module_version": "1.5.0",
            "_model_name": "HTMLModel",
            "_view_count": null,
            "_view_module": "@jupyter-widgets/controls",
            "_view_module_version": "1.5.0",
            "_view_name": "HTMLView",
            "description": "",
            "description_tooltip": null,
            "layout": "IPY_MODEL_1fa1ce9e207840639087a4abb797fe8e",
            "placeholder": "​",
            "style": "IPY_MODEL_98b97289757042f3978e8212058f37df",
            "value": "model.safetensors: 100%"
          }
        },
        "56cea02a54e0465f80a8841ea9d7c188": {
          "model_module": "@jupyter-widgets/controls",
          "model_name": "FloatProgressModel",
          "model_module_version": "1.5.0",
          "state": {
            "_dom_classes": [],
            "_model_module": "@jupyter-widgets/controls",
            "_model_module_version": "1.5.0",
            "_model_name": "FloatProgressModel",
            "_view_count": null,
            "_view_module": "@jupyter-widgets/controls",
            "_view_module_version": "1.5.0",
            "_view_name": "ProgressView",
            "bar_style": "success",
            "description": "",
            "description_tooltip": null,
            "layout": "IPY_MODEL_cd79238e507e4afdb28a9e6857c94338",
            "max": 114374272,
            "min": 0,
            "orientation": "horizontal",
            "style": "IPY_MODEL_77637bbd261d4bfb9ea007ce71b940a7",
            "value": 114374272
          }
        },
        "13bc04ccd4824875b89ca5ed1d23c06b": {
          "model_module": "@jupyter-widgets/controls",
          "model_name": "HTMLModel",
          "model_module_version": "1.5.0",
          "state": {
            "_dom_classes": [],
            "_model_module": "@jupyter-widgets/controls",
            "_model_module_version": "1.5.0",
            "_model_name": "HTMLModel",
            "_view_count": null,
            "_view_module": "@jupyter-widgets/controls",
            "_view_module_version": "1.5.0",
            "_view_name": "HTMLView",
            "description": "",
            "description_tooltip": null,
            "layout": "IPY_MODEL_482711b1a0a747eb9b3cf230fc58bbeb",
            "placeholder": "​",
            "style": "IPY_MODEL_04dd8160083b47d3bd131fb42e14360b",
            "value": " 114M/114M [00:00&lt;00:00, 242MB/s]"
          }
        },
        "daaf3c85383c47458b9c7b0cb05f3822": {
          "model_module": "@jupyter-widgets/base",
          "model_name": "LayoutModel",
          "model_module_version": "1.2.0",
          "state": {
            "_model_module": "@jupyter-widgets/base",
            "_model_module_version": "1.2.0",
            "_model_name": "LayoutModel",
            "_view_count": null,
            "_view_module": "@jupyter-widgets/base",
            "_view_module_version": "1.2.0",
            "_view_name": "LayoutView",
            "align_content": null,
            "align_items": null,
            "align_self": null,
            "border": null,
            "bottom": null,
            "display": null,
            "flex": null,
            "flex_flow": null,
            "grid_area": null,
            "grid_auto_columns": null,
            "grid_auto_flow": null,
            "grid_auto_rows": null,
            "grid_column": null,
            "grid_gap": null,
            "grid_row": null,
            "grid_template_areas": null,
            "grid_template_columns": null,
            "grid_template_rows": null,
            "height": null,
            "justify_content": null,
            "justify_items": null,
            "left": null,
            "margin": null,
            "max_height": null,
            "max_width": null,
            "min_height": null,
            "min_width": null,
            "object_fit": null,
            "object_position": null,
            "order": null,
            "overflow": null,
            "overflow_x": null,
            "overflow_y": null,
            "padding": null,
            "right": null,
            "top": null,
            "visibility": null,
            "width": null
          }
        },
        "1fa1ce9e207840639087a4abb797fe8e": {
          "model_module": "@jupyter-widgets/base",
          "model_name": "LayoutModel",
          "model_module_version": "1.2.0",
          "state": {
            "_model_module": "@jupyter-widgets/base",
            "_model_module_version": "1.2.0",
            "_model_name": "LayoutModel",
            "_view_count": null,
            "_view_module": "@jupyter-widgets/base",
            "_view_module_version": "1.2.0",
            "_view_name": "LayoutView",
            "align_content": null,
            "align_items": null,
            "align_self": null,
            "border": null,
            "bottom": null,
            "display": null,
            "flex": null,
            "flex_flow": null,
            "grid_area": null,
            "grid_auto_columns": null,
            "grid_auto_flow": null,
            "grid_auto_rows": null,
            "grid_column": null,
            "grid_gap": null,
            "grid_row": null,
            "grid_template_areas": null,
            "grid_template_columns": null,
            "grid_template_rows": null,
            "height": null,
            "justify_content": null,
            "justify_items": null,
            "left": null,
            "margin": null,
            "max_height": null,
            "max_width": null,
            "min_height": null,
            "min_width": null,
            "object_fit": null,
            "object_position": null,
            "order": null,
            "overflow": null,
            "overflow_x": null,
            "overflow_y": null,
            "padding": null,
            "right": null,
            "top": null,
            "visibility": null,
            "width": null
          }
        },
        "98b97289757042f3978e8212058f37df": {
          "model_module": "@jupyter-widgets/controls",
          "model_name": "DescriptionStyleModel",
          "model_module_version": "1.5.0",
          "state": {
            "_model_module": "@jupyter-widgets/controls",
            "_model_module_version": "1.5.0",
            "_model_name": "DescriptionStyleModel",
            "_view_count": null,
            "_view_module": "@jupyter-widgets/base",
            "_view_module_version": "1.2.0",
            "_view_name": "StyleView",
            "description_width": ""
          }
        },
        "cd79238e507e4afdb28a9e6857c94338": {
          "model_module": "@jupyter-widgets/base",
          "model_name": "LayoutModel",
          "model_module_version": "1.2.0",
          "state": {
            "_model_module": "@jupyter-widgets/base",
            "_model_module_version": "1.2.0",
            "_model_name": "LayoutModel",
            "_view_count": null,
            "_view_module": "@jupyter-widgets/base",
            "_view_module_version": "1.2.0",
            "_view_name": "LayoutView",
            "align_content": null,
            "align_items": null,
            "align_self": null,
            "border": null,
            "bottom": null,
            "display": null,
            "flex": null,
            "flex_flow": null,
            "grid_area": null,
            "grid_auto_columns": null,
            "grid_auto_flow": null,
            "grid_auto_rows": null,
            "grid_column": null,
            "grid_gap": null,
            "grid_row": null,
            "grid_template_areas": null,
            "grid_template_columns": null,
            "grid_template_rows": null,
            "height": null,
            "justify_content": null,
            "justify_items": null,
            "left": null,
            "margin": null,
            "max_height": null,
            "max_width": null,
            "min_height": null,
            "min_width": null,
            "object_fit": null,
            "object_position": null,
            "order": null,
            "overflow": null,
            "overflow_x": null,
            "overflow_y": null,
            "padding": null,
            "right": null,
            "top": null,
            "visibility": null,
            "width": null
          }
        },
        "77637bbd261d4bfb9ea007ce71b940a7": {
          "model_module": "@jupyter-widgets/controls",
          "model_name": "ProgressStyleModel",
          "model_module_version": "1.5.0",
          "state": {
            "_model_module": "@jupyter-widgets/controls",
            "_model_module_version": "1.5.0",
            "_model_name": "ProgressStyleModel",
            "_view_count": null,
            "_view_module": "@jupyter-widgets/base",
            "_view_module_version": "1.2.0",
            "_view_name": "StyleView",
            "bar_color": null,
            "description_width": ""
          }
        },
        "482711b1a0a747eb9b3cf230fc58bbeb": {
          "model_module": "@jupyter-widgets/base",
          "model_name": "LayoutModel",
          "model_module_version": "1.2.0",
          "state": {
            "_model_module": "@jupyter-widgets/base",
            "_model_module_version": "1.2.0",
            "_model_name": "LayoutModel",
            "_view_count": null,
            "_view_module": "@jupyter-widgets/base",
            "_view_module_version": "1.2.0",
            "_view_name": "LayoutView",
            "align_content": null,
            "align_items": null,
            "align_self": null,
            "border": null,
            "bottom": null,
            "display": null,
            "flex": null,
            "flex_flow": null,
            "grid_area": null,
            "grid_auto_columns": null,
            "grid_auto_flow": null,
            "grid_auto_rows": null,
            "grid_column": null,
            "grid_gap": null,
            "grid_row": null,
            "grid_template_areas": null,
            "grid_template_columns": null,
            "grid_template_rows": null,
            "height": null,
            "justify_content": null,
            "justify_items": null,
            "left": null,
            "margin": null,
            "max_height": null,
            "max_width": null,
            "min_height": null,
            "min_width": null,
            "object_fit": null,
            "object_position": null,
            "order": null,
            "overflow": null,
            "overflow_x": null,
            "overflow_y": null,
            "padding": null,
            "right": null,
            "top": null,
            "visibility": null,
            "width": null
          }
        },
        "04dd8160083b47d3bd131fb42e14360b": {
          "model_module": "@jupyter-widgets/controls",
          "model_name": "DescriptionStyleModel",
          "model_module_version": "1.5.0",
          "state": {
            "_model_module": "@jupyter-widgets/controls",
            "_model_module_version": "1.5.0",
            "_model_name": "DescriptionStyleModel",
            "_view_count": null,
            "_view_module": "@jupyter-widgets/base",
            "_view_module_version": "1.2.0",
            "_view_name": "StyleView",
            "description_width": ""
          }
        }
      }
    },
    "accelerator": "GPU"
  },
  "cells": [
    {
      "cell_type": "markdown",
      "metadata": {
        "id": "view-in-github",
        "colab_type": "text"
      },
      "source": [
        "<a href=\"https://colab.research.google.com/github/NavyaSrija/Brain-Tumor-Segmentation-and-Classification-Using-MRI-and-CT-Imaging/blob/main/MRI_CT_Classification.ipynb\" target=\"_parent\"><img src=\"https://colab.research.google.com/assets/colab-badge.svg\" alt=\"Open In Colab\"/></a>"
      ]
    },
    {
      "cell_type": "markdown",
      "source": [
        "**CT** **classification**"
      ],
      "metadata": {
        "id": "ybaH0zqcLXKJ"
      }
    },
    {
      "cell_type": "code",
      "execution_count": null,
      "metadata": {
        "colab": {
          "base_uri": "https://localhost:8080/"
        },
        "id": "VV7UkYMT65y3",
        "outputId": "3e6f0e3e-7da5-4a6e-88ad-ec515d1c1385"
      },
      "outputs": [
        {
          "output_type": "stream",
          "name": "stdout",
          "text": [
            "Mounted at /content/drive\n"
          ]
        }
      ],
      "source": [
        "from google.colab import drive\n",
        "drive.mount('/content/drive')\n"
      ]
    },
    {
      "cell_type": "code",
      "source": [
        "import os\n",
        "\n",
        "DATA_ROOT = '/content/drive/MyDrive/Dataset of CTMRI'\n"
      ],
      "metadata": {
        "id": "qMH5Byyi7L1u"
      },
      "execution_count": null,
      "outputs": []
    },
    {
      "cell_type": "code",
      "source": [
        "for root, dirs, files in os.walk(DATA_ROOT):\n",
        "    print(f\"In: {root}\")\n",
        "    print(\"  Subfolders:\", dirs)\n",
        "    print(\"  Files:\", files[:5])  # Show up to 5 files\n",
        "    print('-'*50)\n"
      ],
      "metadata": {
        "colab": {
          "base_uri": "https://localhost:8080/"
        },
        "id": "H9AMiQ1_7L32",
        "outputId": "c231c9d5-2f8e-45d1-faff-8834e2343f2b"
      },
      "execution_count": null,
      "outputs": [
        {
          "output_type": "stream",
          "name": "stdout",
          "text": [
            "In: /content/drive/MyDrive/Dataset of CTMRI\n",
            "  Subfolders: ['Dataset']\n",
            "  Files: []\n",
            "--------------------------------------------------\n",
            "In: /content/drive/MyDrive/Dataset of CTMRI/Dataset\n",
            "  Subfolders: ['Brain Tumor MRI images', 'Brain Tumor CT scan Images']\n",
            "  Files: []\n",
            "--------------------------------------------------\n",
            "In: /content/drive/MyDrive/Dataset of CTMRI/Dataset/Brain Tumor MRI images\n",
            "  Subfolders: ['Healthy', 'Tumor', 'Tumor_masks']\n",
            "  Files: ['MRI image source.txt']\n",
            "--------------------------------------------------\n",
            "In: /content/drive/MyDrive/Dataset of CTMRI/Dataset/Brain Tumor MRI images/Healthy\n",
            "  Subfolders: []\n",
            "  Files: ['mri_healthy (1618).jpg', 'mri_healthy (279).jpg', 'mri_healthy (1533).jpg', 'mri_healthy (1854).jpg', 'mri_healthy (1355).jpg']\n",
            "--------------------------------------------------\n",
            "In: /content/drive/MyDrive/Dataset of CTMRI/Dataset/Brain Tumor MRI images/Tumor\n",
            "  Subfolders: []\n",
            "  Files: ['pituitary (187).jpg', 'meningioma (823).jpg', 'pituitary (425).jpg', 'meningioma (808).jpg', 'meningioma (669).jpg']\n",
            "--------------------------------------------------\n",
            "In: /content/drive/MyDrive/Dataset of CTMRI/Dataset/Brain Tumor MRI images/Tumor_masks\n",
            "  Subfolders: []\n",
            "  Files: ['glioma (319)_mask.png', 'glioma (377)_mask.png', 'glioma (186)_mask.png', 'glioma (408)_mask.png', 'glioma (323)_mask.png']\n",
            "--------------------------------------------------\n",
            "In: /content/drive/MyDrive/Dataset of CTMRI/Dataset/Brain Tumor CT scan Images\n",
            "  Subfolders: ['Tumor', 'Healthy', 'Tumor_masks']\n",
            "  Files: ['CT image source.txt']\n",
            "--------------------------------------------------\n",
            "In: /content/drive/MyDrive/Dataset of CTMRI/Dataset/Brain Tumor CT scan Images/Tumor\n",
            "  Subfolders: []\n",
            "  Files: ['ct_tumor (453).jpg', 'ct_tumor (358).jpg', 'ct_tumor (277).jpg', 'ct_tumor (347).jpg', 'ct_tumor (589).jpg']\n",
            "--------------------------------------------------\n",
            "In: /content/drive/MyDrive/Dataset of CTMRI/Dataset/Brain Tumor CT scan Images/Healthy\n",
            "  Subfolders: []\n",
            "  Files: ['ct_healthy (450).jpg', 'ct_healthy (4).jpg', 'ct_healthy (475).jpg', 'ct_healthy (63).png', 'ct_healthy (426).png']\n",
            "--------------------------------------------------\n",
            "In: /content/drive/MyDrive/Dataset of CTMRI/Dataset/Brain Tumor CT scan Images/Tumor_masks\n",
            "  Subfolders: []\n",
            "  Files: ['ct_tumor (1593)_mask.png', 'ct_tumor (1450)_mask.png', 'ct_tumor (1524)_mask.png', 'ct_tumor (1709)_mask.png', 'ct_tumor (1512)_mask.png']\n",
            "--------------------------------------------------\n"
          ]
        }
      ]
    },
    {
      "cell_type": "code",
      "source": [
        "import os\n",
        "import cv2\n",
        "import numpy as np\n",
        "import torch\n",
        "from torch.utils.data import Dataset, DataLoader\n",
        "from sklearn.model_selection import train_test_split\n",
        "\n",
        "ct_tumor_dir = '/content/drive/MyDrive/Dataset of CTMRI/Dataset/Brain Tumor CT scan Images/Tumor'\n",
        "ct_healthy_dir = '/content/drive/MyDrive/Dataset of CTMRI/Dataset/Brain Tumor CT scan Images/Healthy'\n",
        "\n",
        "ct_data = []\n",
        "for fname in os.listdir(ct_tumor_dir):\n",
        "    if fname.endswith(('.jpg', '.png')):\n",
        "        ct_data.append((os.path.join(ct_tumor_dir, fname), 1))  # 1 = tumor\n",
        "for fname in os.listdir(ct_healthy_dir):\n",
        "    if fname.endswith(('.jpg', '.png')):\n",
        "        ct_data.append((os.path.join(ct_healthy_dir, fname), 0))  # 0 = healthy\n",
        "\n",
        "# (You can repeat the same for MRI if you want to compare across modalities!)\n",
        "\n",
        "train_list, val_list = train_test_split(ct_data, test_size=0.2, random_state=42)\n",
        "\n",
        "class BrainTumorClassificationDataset(Dataset):\n",
        "    def __init__(self, img_label_list, resize=(224,224)):\n",
        "        self.img_label_list = img_label_list\n",
        "        self.resize = resize\n",
        "    def __len__(self):\n",
        "        return len(self.img_label_list)\n",
        "    def __getitem__(self, idx):\n",
        "        img_path, label = self.img_label_list[idx]\n",
        "        img = cv2.imread(img_path, cv2.IMREAD_GRAYSCALE)\n",
        "        img = cv2.resize(img, self.resize)\n",
        "        img = (img - np.min(img)) / (np.max(img) - np.min(img) + 1e-8)\n",
        "        img = np.stack([img]*3, axis=0)\n",
        "        img = torch.tensor(img, dtype=torch.float)\n",
        "        label = torch.tensor(label, dtype=torch.long)\n",
        "        return img, label\n",
        "\n",
        "train_ds = BrainTumorClassificationDataset(train_list)\n",
        "val_ds = BrainTumorClassificationDataset(val_list)\n",
        "train_loader = DataLoader(train_ds, batch_size=32, shuffle=True)\n",
        "val_loader = DataLoader(val_ds, batch_size=32, shuffle=False)\n"
      ],
      "metadata": {
        "id": "h-bo0UQpBhTs"
      },
      "execution_count": null,
      "outputs": []
    },
    {
      "cell_type": "code",
      "source": [
        "import timm\n",
        "import torch.nn as nn\n",
        "\n",
        "device = torch.device('cuda' if torch.cuda.is_available() else 'cpu')\n",
        "\n",
        "# EfficientNet\n",
        "model_eff = timm.create_model('efficientnet_b0', pretrained=True, num_classes=2)\n",
        "model_eff = model_eff.to(device)\n",
        "\n",
        "# ConvNeXt Tiny (latest conv-based model)\n",
        "model_cnv = timm.create_model('convnext_tiny', pretrained=True, num_classes=2)\n",
        "model_cnv = model_cnv.to(device)\n"
      ],
      "metadata": {
        "colab": {
          "base_uri": "https://localhost:8080/",
          "height": 205,
          "referenced_widgets": [
            "5e88c076422f47719f17f37e4d58887e",
            "07282fc9529e40928e6a35a13389b458",
            "12c682f56ecc4ebcb72c8a7b3a4ee977",
            "7b974eafdedf4d0ea20d00f085597430",
            "0fa1aea4be3445af80cafa1783a2c94c",
            "f93563eef5aa434397adcab4533495ed",
            "e99cfb835c2642838e5126153bbcbd8e",
            "21af287ffc57442489b83384c623d803",
            "0713bf4e757d46c5b2947cc4a698aec7",
            "9305d640486b40afac367991b4de705b",
            "2db28be7823f4d7b9c524c1868e5c582",
            "101337c781c04dd78548e6ae1d5ce9dc",
            "9f09c171e7f24af996ff1995c465b8ab",
            "56cea02a54e0465f80a8841ea9d7c188",
            "13bc04ccd4824875b89ca5ed1d23c06b",
            "daaf3c85383c47458b9c7b0cb05f3822",
            "1fa1ce9e207840639087a4abb797fe8e",
            "98b97289757042f3978e8212058f37df",
            "cd79238e507e4afdb28a9e6857c94338",
            "77637bbd261d4bfb9ea007ce71b940a7",
            "482711b1a0a747eb9b3cf230fc58bbeb",
            "04dd8160083b47d3bd131fb42e14360b"
          ]
        },
        "id": "YqKOCQE5BreH",
        "outputId": "e269e941-0776-4ce1-f798-cf0fc824ee10"
      },
      "execution_count": null,
      "outputs": [
        {
          "output_type": "stream",
          "name": "stderr",
          "text": [
            "/usr/local/lib/python3.11/dist-packages/huggingface_hub/utils/_auth.py:94: UserWarning: \n",
            "The secret `HF_TOKEN` does not exist in your Colab secrets.\n",
            "To authenticate with the Hugging Face Hub, create a token in your settings tab (https://huggingface.co/settings/tokens), set it as secret in your Google Colab and restart your session.\n",
            "You will be able to reuse this secret in all of your notebooks.\n",
            "Please note that authentication is recommended but still optional to access public models or datasets.\n",
            "  warnings.warn(\n"
          ]
        },
        {
          "output_type": "display_data",
          "data": {
            "text/plain": [
              "model.safetensors:   0%|          | 0.00/21.4M [00:00<?, ?B/s]"
            ],
            "application/vnd.jupyter.widget-view+json": {
              "version_major": 2,
              "version_minor": 0,
              "model_id": "5e88c076422f47719f17f37e4d58887e"
            }
          },
          "metadata": {}
        },
        {
          "output_type": "display_data",
          "data": {
            "text/plain": [
              "model.safetensors:   0%|          | 0.00/114M [00:00<?, ?B/s]"
            ],
            "application/vnd.jupyter.widget-view+json": {
              "version_major": 2,
              "version_minor": 0,
              "model_id": "101337c781c04dd78548e6ae1d5ce9dc"
            }
          },
          "metadata": {}
        }
      ]
    },
    {
      "cell_type": "code",
      "source": [
        "import timm\n",
        "import torch.nn as nn\n",
        "\n",
        "device = torch.device('cuda' if torch.cuda.is_available() else 'cpu')\n",
        "\n",
        "# EfficientNet\n",
        "model_eff = timm.create_model('efficientnet_b0', pretrained=True, num_classes=2)\n",
        "model_eff = model_eff.to(device)\n",
        "\n",
        "# ConvNeXt Tiny (latest conv-based model)\n",
        "model_cnv = timm.create_model('convnext_tiny', pretrained=True, num_classes=2)\n",
        "model_cnv = model_cnv.to(device)\n"
      ],
      "metadata": {
        "id": "Q-bS1F4rBrga"
      },
      "execution_count": null,
      "outputs": []
    },
    {
      "cell_type": "code",
      "source": [
        "def train_model(model, train_loader, val_loader, epochs=2):\n",
        "    optimizer = torch.optim.Adam(model.parameters(), lr=1e-4)\n",
        "    criterion = nn.CrossEntropyLoss()\n",
        "    for epoch in range(epochs):\n",
        "        model.train()\n",
        "        epoch_loss = 0\n",
        "        for imgs, labels in train_loader:\n",
        "            imgs, labels = imgs.to(device), labels.to(device)\n",
        "            optimizer.zero_grad()\n",
        "            out = model(imgs)\n",
        "            loss = criterion(out, labels)\n",
        "            loss.backward()\n",
        "            optimizer.step()\n",
        "            epoch_loss += loss.item()\n",
        "        print(f\"Epoch {epoch+1}: {epoch_loss / len(train_loader):.4f}\")\n",
        "    return model\n"
      ],
      "metadata": {
        "id": "tlQNlRGDBriw"
      },
      "execution_count": null,
      "outputs": []
    },
    {
      "cell_type": "code",
      "source": [
        "print(\"\\nTraining EfficientNetB0...\")\n",
        "model_eff = train_model(model_eff, train_loader, val_loader)\n",
        "\n",
        "print(\"\\nTraining ConvNeXt Tiny...\")\n",
        "model_cnv = train_model(model_cnv, train_loader, val_loader)\n"
      ],
      "metadata": {
        "colab": {
          "base_uri": "https://localhost:8080/"
        },
        "id": "EYe-ufnTBrlV",
        "outputId": "a9ee0573-81cc-469a-8be4-a65b2c507ff3"
      },
      "execution_count": null,
      "outputs": [
        {
          "output_type": "stream",
          "name": "stdout",
          "text": [
            "\n",
            "Training EfficientNetB0...\n",
            "Epoch 1: 0.3875\n",
            "Epoch 2: 0.0399\n",
            "\n",
            "Training ConvNeXt Tiny...\n",
            "Epoch 1: 0.2295\n",
            "Epoch 2: 0.1366\n"
          ]
        }
      ]
    },
    {
      "cell_type": "code",
      "source": [
        "from sklearn.metrics import classification_report, accuracy_score\n",
        "\n",
        "def eval_model(model, val_loader, name=\"Model\"):\n",
        "    model.eval()\n",
        "    y_true, y_pred = [], []\n",
        "    with torch.no_grad():\n",
        "        for imgs, labels in val_loader:\n",
        "            imgs, labels = imgs.to(device), labels.to(device)\n",
        "            outputs = model(imgs)\n",
        "            preds = torch.argmax(outputs, dim=1)\n",
        "            y_true.extend(labels.cpu().numpy())\n",
        "            y_pred.extend(preds.cpu().numpy())\n",
        "    acc = accuracy_score(y_true, y_pred)\n",
        "    report = classification_report(y_true, y_pred, target_names=['Healthy','Tumor'], digits=4)\n",
        "    print(f\"\\n{name} Results:\")\n",
        "    print(f\"Accuracy: {acc:.4f}\")\n",
        "    print(report)\n",
        "    return acc, report\n",
        "\n",
        "eval_model(model_eff, val_loader, \"EfficientNetB0\")\n",
        "eval_model(model_cnv, val_loader, \"ConvNeXt Tiny\")\n"
      ],
      "metadata": {
        "id": "GYbhEb-SBrop",
        "colab": {
          "base_uri": "https://localhost:8080/"
        },
        "outputId": "c3218b93-c3e6-4e78-ad4f-69dd396fb5fc"
      },
      "execution_count": null,
      "outputs": [
        {
          "output_type": "stream",
          "name": "stdout",
          "text": [
            "\n",
            "EfficientNetB0 Results:\n",
            "Accuracy: 0.9805\n",
            "              precision    recall  f1-score   support\n",
            "\n",
            "     Healthy     0.9774    0.9819    0.9796       441\n",
            "       Tumor     0.9834    0.9793    0.9813       483\n",
            "\n",
            "    accuracy                         0.9805       924\n",
            "   macro avg     0.9804    0.9806    0.9805       924\n",
            "weighted avg     0.9805    0.9805    0.9805       924\n",
            "\n",
            "\n",
            "ConvNeXt Tiny Results:\n",
            "Accuracy: 0.9232\n",
            "              precision    recall  f1-score   support\n",
            "\n",
            "     Healthy     0.9602    0.8753    0.9158       441\n",
            "       Tumor     0.8946    0.9669    0.9294       483\n",
            "\n",
            "    accuracy                         0.9232       924\n",
            "   macro avg     0.9274    0.9211    0.9226       924\n",
            "weighted avg     0.9259    0.9232    0.9229       924\n",
            "\n"
          ]
        },
        {
          "output_type": "execute_result",
          "data": {
            "text/plain": [
              "(0.9231601731601732,\n",
              " '              precision    recall  f1-score   support\\n\\n     Healthy     0.9602    0.8753    0.9158       441\\n       Tumor     0.8946    0.9669    0.9294       483\\n\\n    accuracy                         0.9232       924\\n   macro avg     0.9274    0.9211    0.9226       924\\nweighted avg     0.9259    0.9232    0.9229       924\\n')"
            ]
          },
          "metadata": {},
          "execution_count": 9
        }
      ]
    },
    {
      "cell_type": "code",
      "source": [
        "from sklearn.metrics import classification_report, accuracy_score\n",
        "\n",
        "def eval_model(model, val_loader, name=\"Model\"):\n",
        "    model.eval()\n",
        "    y_true, y_pred = [], []\n",
        "    with torch.no_grad():\n",
        "        for imgs, labels in val_loader:\n",
        "            imgs, labels = imgs.to(device), labels.to(device)\n",
        "            outputs = model(imgs)\n",
        "            preds = torch.argmax(outputs, dim=1)\n",
        "            y_true.extend(labels.cpu().numpy())\n",
        "            y_pred.extend(preds.cpu().numpy())\n",
        "    acc = accuracy_score(y_true, y_pred)\n",
        "    report = classification_report(y_true, y_pred, target_names=['Healthy','Tumor'], digits=4)\n",
        "    print(f\"\\n{name} Results:\")\n",
        "    print(f\"Accuracy: {acc:.4f}\")\n",
        "    print(report)\n",
        "    return acc, report\n",
        "\n",
        "eval_model(model_eff, val_loader, \"EfficientNetB0\")\n",
        "eval_model(model_cnv, val_loader, \"ConvNeXt Tiny\")\n"
      ],
      "metadata": {
        "id": "r7D82mDoBhZA",
        "colab": {
          "base_uri": "https://localhost:8080/"
        },
        "outputId": "4c926c38-25bd-4ca1-8e93-a0b437e2a1b8"
      },
      "execution_count": null,
      "outputs": [
        {
          "output_type": "stream",
          "name": "stdout",
          "text": [
            "\n",
            "EfficientNetB0 Results:\n",
            "Accuracy: 0.9805\n",
            "              precision    recall  f1-score   support\n",
            "\n",
            "     Healthy     0.9774    0.9819    0.9796       441\n",
            "       Tumor     0.9834    0.9793    0.9813       483\n",
            "\n",
            "    accuracy                         0.9805       924\n",
            "   macro avg     0.9804    0.9806    0.9805       924\n",
            "weighted avg     0.9805    0.9805    0.9805       924\n",
            "\n",
            "\n",
            "ConvNeXt Tiny Results:\n",
            "Accuracy: 0.9232\n",
            "              precision    recall  f1-score   support\n",
            "\n",
            "     Healthy     0.9602    0.8753    0.9158       441\n",
            "       Tumor     0.8946    0.9669    0.9294       483\n",
            "\n",
            "    accuracy                         0.9232       924\n",
            "   macro avg     0.9274    0.9211    0.9226       924\n",
            "weighted avg     0.9259    0.9232    0.9229       924\n",
            "\n"
          ]
        },
        {
          "output_type": "execute_result",
          "data": {
            "text/plain": [
              "(0.9231601731601732,\n",
              " '              precision    recall  f1-score   support\\n\\n     Healthy     0.9602    0.8753    0.9158       441\\n       Tumor     0.8946    0.9669    0.9294       483\\n\\n    accuracy                         0.9232       924\\n   macro avg     0.9274    0.9211    0.9226       924\\nweighted avg     0.9259    0.9232    0.9229       924\\n')"
            ]
          },
          "metadata": {},
          "execution_count": 11
        }
      ]
    },
    {
      "cell_type": "markdown",
      "source": [
        "**MRI classification**"
      ],
      "metadata": {
        "id": "mKSYOjpULOJg"
      }
    },
    {
      "cell_type": "code",
      "source": [
        "import os\n",
        "\n",
        "# MRI paths (update if different)\n",
        "mri_tumor_dir = '/content/drive/MyDrive/Dataset of CTMRI/Dataset/Brain Tumor MRI images/Tumor'\n",
        "mri_healthy_dir = '/content/drive/MyDrive/Dataset of CTMRI/Dataset/Brain Tumor MRI images/Healthy'\n",
        "\n",
        "mri_data = []\n",
        "for fname in os.listdir(mri_tumor_dir):\n",
        "    if fname.endswith('.jpg'):\n",
        "        mri_data.append((os.path.join(mri_tumor_dir, fname), 1))  # 1 = tumor\n",
        "for fname in os.listdir(mri_healthy_dir):\n",
        "    if fname.endswith('.jpg'):\n",
        "        mri_data.append((os.path.join(mri_healthy_dir, fname), 0))  # 0 = healthy\n",
        "\n",
        "from sklearn.model_selection import train_test_split\n",
        "mri_train, mri_val = train_test_split(mri_data, test_size=0.2, random_state=42)\n"
      ],
      "metadata": {
        "id": "p7spAWlbLJ7H"
      },
      "execution_count": null,
      "outputs": []
    },
    {
      "cell_type": "code",
      "source": [
        "import cv2\n",
        "import numpy as np\n",
        "import torch\n",
        "from torch.utils.data import Dataset, DataLoader\n",
        "\n",
        "class BrainTumorMRIDataset(Dataset):\n",
        "    def __init__(self, img_label_list, resize=(224,224)):\n",
        "        self.img_label_list = img_label_list\n",
        "        self.resize = resize\n",
        "    def __len__(self):\n",
        "        return len(self.img_label_list)\n",
        "    def __getitem__(self, idx):\n",
        "        img_path, label = self.img_label_list[idx]\n",
        "        img = cv2.imread(img_path, cv2.IMREAD_GRAYSCALE)\n",
        "        img = cv2.resize(img, self.resize)\n",
        "        img = (img - np.min(img)) / (np.max(img) - np.min(img) + 1e-8)\n",
        "        img = np.stack([img]*3, axis=0)\n",
        "        img = torch.tensor(img, dtype=torch.float)\n",
        "        label = torch.tensor(label, dtype=torch.long)\n",
        "        return img, label\n",
        "\n",
        "mri_train_ds = BrainTumorMRIDataset(mri_train)\n",
        "mri_val_ds = BrainTumorMRIDataset(mri_val)\n",
        "mri_train_loader = DataLoader(mri_train_ds, batch_size=32, shuffle=True)\n",
        "mri_val_loader = DataLoader(mri_val_ds, batch_size=32, shuffle=False)\n"
      ],
      "metadata": {
        "id": "DU2_DGo9LJ9o"
      },
      "execution_count": null,
      "outputs": []
    },
    {
      "cell_type": "code",
      "source": [
        "import timm\n",
        "import torch.nn as nn\n",
        "\n",
        "device = torch.device('cuda' if torch.cuda.is_available() else 'cpu')\n",
        "\n",
        "# EfficientNetB0\n",
        "mri_model_eff = timm.create_model('efficientnet_b0', pretrained=True, num_classes=2)\n",
        "mri_model_eff = mri_model_eff.to(device)\n",
        "\n",
        "# ConvNeXt Tiny\n",
        "mri_model_cnv = timm.create_model('convnext_tiny', pretrained=True, num_classes=2)\n",
        "mri_model_cnv = mri_model_cnv.to(device)\n"
      ],
      "metadata": {
        "id": "arGafKlALKAR"
      },
      "execution_count": null,
      "outputs": []
    },
    {
      "cell_type": "code",
      "source": [
        "def train_model(model, train_loader, val_loader, epochs=2):\n",
        "    optimizer = torch.optim.Adam(model.parameters(), lr=1e-4)\n",
        "    criterion = nn.CrossEntropyLoss()\n",
        "    for epoch in range(epochs):\n",
        "        model.train()\n",
        "        epoch_loss = 0\n",
        "        for imgs, labels in train_loader:\n",
        "            imgs, labels = imgs.to(device), labels.to(device)\n",
        "            optimizer.zero_grad()\n",
        "            out = model(imgs)\n",
        "            loss = criterion(out, labels)\n",
        "            loss.backward()\n",
        "            optimizer.step()\n",
        "            epoch_loss += loss.item()\n",
        "        print(f\"Epoch {epoch+1}: {epoch_loss / len(train_loader):.4f}\")\n",
        "    return model\n"
      ],
      "metadata": {
        "id": "YNWEaVY3LKDH"
      },
      "execution_count": null,
      "outputs": []
    },
    {
      "cell_type": "code",
      "source": [
        "print(\"\\nTraining EfficientNetB0 on MRI...\")\n",
        "mri_model_eff = train_model(mri_model_eff, mri_train_loader, mri_val_loader)\n",
        "\n",
        "print(\"\\nTraining ConvNeXt Tiny on MRI...\")\n",
        "mri_model_cnv = train_model(mri_model_cnv, mri_train_loader, mri_val_loader)\n"
      ],
      "metadata": {
        "colab": {
          "base_uri": "https://localhost:8080/"
        },
        "id": "5x0j_iOcLKFf",
        "outputId": "4d4c01d6-2e68-47ad-eccc-fabf56fb67df"
      },
      "execution_count": null,
      "outputs": [
        {
          "output_type": "stream",
          "name": "stdout",
          "text": [
            "\n",
            "Training EfficientNetB0 on MRI...\n",
            "Epoch 1: 0.3928\n",
            "Epoch 2: 0.0222\n",
            "\n",
            "Training ConvNeXt Tiny on MRI...\n",
            "Epoch 1: 0.2349\n",
            "Epoch 2: 0.0341\n"
          ]
        }
      ]
    },
    {
      "cell_type": "code",
      "source": [
        "from sklearn.metrics import classification_report, accuracy_score\n",
        "\n",
        "def eval_model(model, val_loader, name=\"Model\"):\n",
        "    model.eval()\n",
        "    y_true, y_pred = [], []\n",
        "    with torch.no_grad():\n",
        "        for imgs, labels in val_loader:\n",
        "            imgs, labels = imgs.to(device), labels.to(device)\n",
        "            outputs = model(imgs)\n",
        "            preds = torch.argmax(outputs, dim=1)\n",
        "            y_true.extend(labels.cpu().numpy())\n",
        "            y_pred.extend(preds.cpu().numpy())\n",
        "    acc = accuracy_score(y_true, y_pred)\n",
        "    report = classification_report(y_true, y_pred, target_names=['Healthy','Tumor'], digits=4)\n",
        "    print(f\"\\n{name} Results:\")\n",
        "    print(f\"Accuracy: {acc:.4f}\")\n",
        "    print(report)\n",
        "    return acc, report\n",
        "\n",
        "eval_model(mri_model_eff, mri_val_loader, \"EfficientNetB0 (MRI)\")\n",
        "eval_model(mri_model_cnv, mri_val_loader, \"ConvNeXt Tiny (MRI)\")\n"
      ],
      "metadata": {
        "colab": {
          "base_uri": "https://localhost:8080/"
        },
        "id": "cqkLVIuJLKIJ",
        "outputId": "15114796-5c0b-4c80-d771-dea627c08691"
      },
      "execution_count": null,
      "outputs": [
        {
          "output_type": "stream",
          "name": "stdout",
          "text": [
            "\n",
            "EfficientNetB0 (MRI) Results:\n",
            "Accuracy: 0.9890\n",
            "              precision    recall  f1-score   support\n",
            "\n",
            "     Healthy     0.9900    0.9826    0.9863       403\n",
            "       Tumor     0.9883    0.9933    0.9908       594\n",
            "\n",
            "    accuracy                         0.9890       997\n",
            "   macro avg     0.9891    0.9879    0.9885       997\n",
            "weighted avg     0.9890    0.9890    0.9890       997\n",
            "\n",
            "\n",
            "ConvNeXt Tiny (MRI) Results:\n",
            "Accuracy: 0.9689\n",
            "              precision    recall  f1-score   support\n",
            "\n",
            "     Healthy     0.9745    0.9479    0.9610       403\n",
            "       Tumor     0.9653    0.9832    0.9741       594\n",
            "\n",
            "    accuracy                         0.9689       997\n",
            "   macro avg     0.9699    0.9655    0.9676       997\n",
            "weighted avg     0.9690    0.9689    0.9688       997\n",
            "\n"
          ]
        },
        {
          "output_type": "execute_result",
          "data": {
            "text/plain": [
              "(0.9689067201604814,\n",
              " '              precision    recall  f1-score   support\\n\\n     Healthy     0.9745    0.9479    0.9610       403\\n       Tumor     0.9653    0.9832    0.9741       594\\n\\n    accuracy                         0.9689       997\\n   macro avg     0.9699    0.9655    0.9676       997\\nweighted avg     0.9690    0.9689    0.9688       997\\n')"
            ]
          },
          "metadata": {},
          "execution_count": 16
        }
      ]
    },
    {
      "cell_type": "code",
      "source": [],
      "metadata": {
        "id": "4-v4X5JTLKKf"
      },
      "execution_count": null,
      "outputs": []
    },
    {
      "cell_type": "code",
      "source": [],
      "metadata": {
        "id": "XtiK8ObqLKOF"
      },
      "execution_count": null,
      "outputs": []
    },
    {
      "cell_type": "code",
      "source": [],
      "metadata": {
        "id": "rckYOGN87L7Q"
      },
      "execution_count": null,
      "outputs": []
    }
  ]
}
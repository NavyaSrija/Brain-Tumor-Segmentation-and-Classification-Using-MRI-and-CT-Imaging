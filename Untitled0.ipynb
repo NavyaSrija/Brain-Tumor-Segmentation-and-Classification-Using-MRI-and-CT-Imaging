{
  "nbformat": 4,
  "nbformat_minor": 0,
  "metadata": {
    "colab": {
      "provenance": [],
      "gpuType": "T4",
      "authorship_tag": "ABX9TyPQHknxlvaqdc/pI05w32BL",
      "include_colab_link": true
    },
    "kernelspec": {
      "name": "python3",
      "display_name": "Python 3"
    },
    "language_info": {
      "name": "python"
    },
    "accelerator": "GPU",
    "widgets": {
      "application/vnd.jupyter.widget-state+json": {
        "3f9d39da6ed744fbac831e4701bd4c1d": {
          "model_module": "@jupyter-widgets/controls",
          "model_name": "HBoxModel",
          "model_module_version": "1.5.0",
          "state": {
            "_dom_classes": [],
            "_model_module": "@jupyter-widgets/controls",
            "_model_module_version": "1.5.0",
            "_model_name": "HBoxModel",
            "_view_count": null,
            "_view_module": "@jupyter-widgets/controls",
            "_view_module_version": "1.5.0",
            "_view_name": "HBoxView",
            "box_style": "",
            "children": [
              "IPY_MODEL_e143ae417de641c0a04e3ecd6695f18e",
              "IPY_MODEL_09a5e2aa9d444fdca12b7c58be9cc0b7",
              "IPY_MODEL_b71fbd7875cb4daf8890f18a3372f663"
            ],
            "layout": "IPY_MODEL_de2beab06bfa4634a100709f9cc4ba88"
          }
        },
        "e143ae417de641c0a04e3ecd6695f18e": {
          "model_module": "@jupyter-widgets/controls",
          "model_name": "HTMLModel",
          "model_module_version": "1.5.0",
          "state": {
            "_dom_classes": [],
            "_model_module": "@jupyter-widgets/controls",
            "_model_module_version": "1.5.0",
            "_model_name": "HTMLModel",
            "_view_count": null,
            "_view_module": "@jupyter-widgets/controls",
            "_view_module_version": "1.5.0",
            "_view_name": "HTMLView",
            "description": "",
            "description_tooltip": null,
            "layout": "IPY_MODEL_4008e5b35e924d8ea3bdd743f63e553a",
            "placeholder": "​",
            "style": "IPY_MODEL_e8104ac83b204ddb8357635909efdbe1",
            "value": "config.json: 100%"
          }
        },
        "09a5e2aa9d444fdca12b7c58be9cc0b7": {
          "model_module": "@jupyter-widgets/controls",
          "model_name": "FloatProgressModel",
          "model_module_version": "1.5.0",
          "state": {
            "_dom_classes": [],
            "_model_module": "@jupyter-widgets/controls",
            "_model_module_version": "1.5.0",
            "_model_name": "FloatProgressModel",
            "_view_count": null,
            "_view_module": "@jupyter-widgets/controls",
            "_view_module_version": "1.5.0",
            "_view_name": "ProgressView",
            "bar_style": "success",
            "description": "",
            "description_tooltip": null,
            "layout": "IPY_MODEL_5f5193a2211d4fbfbe2f3aab14a9e3fc",
            "max": 156,
            "min": 0,
            "orientation": "horizontal",
            "style": "IPY_MODEL_db2ecfe0de6c466fb364347c488ddf34",
            "value": 156
          }
        },
        "b71fbd7875cb4daf8890f18a3372f663": {
          "model_module": "@jupyter-widgets/controls",
          "model_name": "HTMLModel",
          "model_module_version": "1.5.0",
          "state": {
            "_dom_classes": [],
            "_model_module": "@jupyter-widgets/controls",
            "_model_module_version": "1.5.0",
            "_model_name": "HTMLModel",
            "_view_count": null,
            "_view_module": "@jupyter-widgets/controls",
            "_view_module_version": "1.5.0",
            "_view_name": "HTMLView",
            "description": "",
            "description_tooltip": null,
            "layout": "IPY_MODEL_c06577dd9e21431baae1d18a18bcf14e",
            "placeholder": "​",
            "style": "IPY_MODEL_2bf5ae6c3438427eb1fc2c31e1fdef7c",
            "value": " 156/156 [00:00&lt;00:00, 13.8kB/s]"
          }
        },
        "de2beab06bfa4634a100709f9cc4ba88": {
          "model_module": "@jupyter-widgets/base",
          "model_name": "LayoutModel",
          "model_module_version": "1.2.0",
          "state": {
            "_model_module": "@jupyter-widgets/base",
            "_model_module_version": "1.2.0",
            "_model_name": "LayoutModel",
            "_view_count": null,
            "_view_module": "@jupyter-widgets/base",
            "_view_module_version": "1.2.0",
            "_view_name": "LayoutView",
            "align_content": null,
            "align_items": null,
            "align_self": null,
            "border": null,
            "bottom": null,
            "display": null,
            "flex": null,
            "flex_flow": null,
            "grid_area": null,
            "grid_auto_columns": null,
            "grid_auto_flow": null,
            "grid_auto_rows": null,
            "grid_column": null,
            "grid_gap": null,
            "grid_row": null,
            "grid_template_areas": null,
            "grid_template_columns": null,
            "grid_template_rows": null,
            "height": null,
            "justify_content": null,
            "justify_items": null,
            "left": null,
            "margin": null,
            "max_height": null,
            "max_width": null,
            "min_height": null,
            "min_width": null,
            "object_fit": null,
            "object_position": null,
            "order": null,
            "overflow": null,
            "overflow_x": null,
            "overflow_y": null,
            "padding": null,
            "right": null,
            "top": null,
            "visibility": null,
            "width": null
          }
        },
        "4008e5b35e924d8ea3bdd743f63e553a": {
          "model_module": "@jupyter-widgets/base",
          "model_name": "LayoutModel",
          "model_module_version": "1.2.0",
          "state": {
            "_model_module": "@jupyter-widgets/base",
            "_model_module_version": "1.2.0",
            "_model_name": "LayoutModel",
            "_view_count": null,
            "_view_module": "@jupyter-widgets/base",
            "_view_module_version": "1.2.0",
            "_view_name": "LayoutView",
            "align_content": null,
            "align_items": null,
            "align_self": null,
            "border": null,
            "bottom": null,
            "display": null,
            "flex": null,
            "flex_flow": null,
            "grid_area": null,
            "grid_auto_columns": null,
            "grid_auto_flow": null,
            "grid_auto_rows": null,
            "grid_column": null,
            "grid_gap": null,
            "grid_row": null,
            "grid_template_areas": null,
            "grid_template_columns": null,
            "grid_template_rows": null,
            "height": null,
            "justify_content": null,
            "justify_items": null,
            "left": null,
            "margin": null,
            "max_height": null,
            "max_width": null,
            "min_height": null,
            "min_width": null,
            "object_fit": null,
            "object_position": null,
            "order": null,
            "overflow": null,
            "overflow_x": null,
            "overflow_y": null,
            "padding": null,
            "right": null,
            "top": null,
            "visibility": null,
            "width": null
          }
        },
        "e8104ac83b204ddb8357635909efdbe1": {
          "model_module": "@jupyter-widgets/controls",
          "model_name": "DescriptionStyleModel",
          "model_module_version": "1.5.0",
          "state": {
            "_model_module": "@jupyter-widgets/controls",
            "_model_module_version": "1.5.0",
            "_model_name": "DescriptionStyleModel",
            "_view_count": null,
            "_view_module": "@jupyter-widgets/base",
            "_view_module_version": "1.2.0",
            "_view_name": "StyleView",
            "description_width": ""
          }
        },
        "5f5193a2211d4fbfbe2f3aab14a9e3fc": {
          "model_module": "@jupyter-widgets/base",
          "model_name": "LayoutModel",
          "model_module_version": "1.2.0",
          "state": {
            "_model_module": "@jupyter-widgets/base",
            "_model_module_version": "1.2.0",
            "_model_name": "LayoutModel",
            "_view_count": null,
            "_view_module": "@jupyter-widgets/base",
            "_view_module_version": "1.2.0",
            "_view_name": "LayoutView",
            "align_content": null,
            "align_items": null,
            "align_self": null,
            "border": null,
            "bottom": null,
            "display": null,
            "flex": null,
            "flex_flow": null,
            "grid_area": null,
            "grid_auto_columns": null,
            "grid_auto_flow": null,
            "grid_auto_rows": null,
            "grid_column": null,
            "grid_gap": null,
            "grid_row": null,
            "grid_template_areas": null,
            "grid_template_columns": null,
            "grid_template_rows": null,
            "height": null,
            "justify_content": null,
            "justify_items": null,
            "left": null,
            "margin": null,
            "max_height": null,
            "max_width": null,
            "min_height": null,
            "min_width": null,
            "object_fit": null,
            "object_position": null,
            "order": null,
            "overflow": null,
            "overflow_x": null,
            "overflow_y": null,
            "padding": null,
            "right": null,
            "top": null,
            "visibility": null,
            "width": null
          }
        },
        "db2ecfe0de6c466fb364347c488ddf34": {
          "model_module": "@jupyter-widgets/controls",
          "model_name": "ProgressStyleModel",
          "model_module_version": "1.5.0",
          "state": {
            "_model_module": "@jupyter-widgets/controls",
            "_model_module_version": "1.5.0",
            "_model_name": "ProgressStyleModel",
            "_view_count": null,
            "_view_module": "@jupyter-widgets/base",
            "_view_module_version": "1.2.0",
            "_view_name": "StyleView",
            "bar_color": null,
            "description_width": ""
          }
        },
        "c06577dd9e21431baae1d18a18bcf14e": {
          "model_module": "@jupyter-widgets/base",
          "model_name": "LayoutModel",
          "model_module_version": "1.2.0",
          "state": {
            "_model_module": "@jupyter-widgets/base",
            "_model_module_version": "1.2.0",
            "_model_name": "LayoutModel",
            "_view_count": null,
            "_view_module": "@jupyter-widgets/base",
            "_view_module_version": "1.2.0",
            "_view_name": "LayoutView",
            "align_content": null,
            "align_items": null,
            "align_self": null,
            "border": null,
            "bottom": null,
            "display": null,
            "flex": null,
            "flex_flow": null,
            "grid_area": null,
            "grid_auto_columns": null,
            "grid_auto_flow": null,
            "grid_auto_rows": null,
            "grid_column": null,
            "grid_gap": null,
            "grid_row": null,
            "grid_template_areas": null,
            "grid_template_columns": null,
            "grid_template_rows": null,
            "height": null,
            "justify_content": null,
            "justify_items": null,
            "left": null,
            "margin": null,
            "max_height": null,
            "max_width": null,
            "min_height": null,
            "min_width": null,
            "object_fit": null,
            "object_position": null,
            "order": null,
            "overflow": null,
            "overflow_x": null,
            "overflow_y": null,
            "padding": null,
            "right": null,
            "top": null,
            "visibility": null,
            "width": null
          }
        },
        "2bf5ae6c3438427eb1fc2c31e1fdef7c": {
          "model_module": "@jupyter-widgets/controls",
          "model_name": "DescriptionStyleModel",
          "model_module_version": "1.5.0",
          "state": {
            "_model_module": "@jupyter-widgets/controls",
            "_model_module_version": "1.5.0",
            "_model_name": "DescriptionStyleModel",
            "_view_count": null,
            "_view_module": "@jupyter-widgets/base",
            "_view_module_version": "1.2.0",
            "_view_name": "StyleView",
            "description_width": ""
          }
        },
        "5ad3e48a706644aba43112f8d426d12e": {
          "model_module": "@jupyter-widgets/controls",
          "model_name": "HBoxModel",
          "model_module_version": "1.5.0",
          "state": {
            "_dom_classes": [],
            "_model_module": "@jupyter-widgets/controls",
            "_model_module_version": "1.5.0",
            "_model_name": "HBoxModel",
            "_view_count": null,
            "_view_module": "@jupyter-widgets/controls",
            "_view_module_version": "1.5.0",
            "_view_name": "HBoxView",
            "box_style": "",
            "children": [
              "IPY_MODEL_442360feb19c4803a100e4d67950bf21",
              "IPY_MODEL_d5c7f02ee1f44f208a03f84348ad51ca",
              "IPY_MODEL_cdb6e50246dc47d2a5238f0a31594a23"
            ],
            "layout": "IPY_MODEL_7623aa9444e246a3a6e279df3eade5b3"
          }
        },
        "442360feb19c4803a100e4d67950bf21": {
          "model_module": "@jupyter-widgets/controls",
          "model_name": "HTMLModel",
          "model_module_version": "1.5.0",
          "state": {
            "_dom_classes": [],
            "_model_module": "@jupyter-widgets/controls",
            "_model_module_version": "1.5.0",
            "_model_name": "HTMLModel",
            "_view_count": null,
            "_view_module": "@jupyter-widgets/controls",
            "_view_module_version": "1.5.0",
            "_view_name": "HTMLView",
            "description": "",
            "description_tooltip": null,
            "layout": "IPY_MODEL_7cef5b7ebdb348bc8a929d14c3f099eb",
            "placeholder": "​",
            "style": "IPY_MODEL_26022e27bc2a4dbab50a068b69990d0e",
            "value": "model.safetensors: 100%"
          }
        },
        "d5c7f02ee1f44f208a03f84348ad51ca": {
          "model_module": "@jupyter-widgets/controls",
          "model_name": "FloatProgressModel",
          "model_module_version": "1.5.0",
          "state": {
            "_dom_classes": [],
            "_model_module": "@jupyter-widgets/controls",
            "_model_module_version": "1.5.0",
            "_model_name": "FloatProgressModel",
            "_view_count": null,
            "_view_module": "@jupyter-widgets/controls",
            "_view_module_version": "1.5.0",
            "_view_name": "ProgressView",
            "bar_style": "success",
            "description": "",
            "description_tooltip": null,
            "layout": "IPY_MODEL_4f5e3a0012174bcd9bf34279a04fe1e0",
            "max": 87275112,
            "min": 0,
            "orientation": "horizontal",
            "style": "IPY_MODEL_978b0a330e4c4bc198284c964771d323",
            "value": 87275112
          }
        },
        "cdb6e50246dc47d2a5238f0a31594a23": {
          "model_module": "@jupyter-widgets/controls",
          "model_name": "HTMLModel",
          "model_module_version": "1.5.0",
          "state": {
            "_dom_classes": [],
            "_model_module": "@jupyter-widgets/controls",
            "_model_module_version": "1.5.0",
            "_model_name": "HTMLModel",
            "_view_count": null,
            "_view_module": "@jupyter-widgets/controls",
            "_view_module_version": "1.5.0",
            "_view_name": "HTMLView",
            "description": "",
            "description_tooltip": null,
            "layout": "IPY_MODEL_91faf6e94b984aad9e6dda2ce16a5b1c",
            "placeholder": "​",
            "style": "IPY_MODEL_91086a2c0f234c459bcc5c39e93e3453",
            "value": " 87.3M/87.3M [00:00&lt;00:00, 155MB/s]"
          }
        },
        "7623aa9444e246a3a6e279df3eade5b3": {
          "model_module": "@jupyter-widgets/base",
          "model_name": "LayoutModel",
          "model_module_version": "1.2.0",
          "state": {
            "_model_module": "@jupyter-widgets/base",
            "_model_module_version": "1.2.0",
            "_model_name": "LayoutModel",
            "_view_count": null,
            "_view_module": "@jupyter-widgets/base",
            "_view_module_version": "1.2.0",
            "_view_name": "LayoutView",
            "align_content": null,
            "align_items": null,
            "align_self": null,
            "border": null,
            "bottom": null,
            "display": null,
            "flex": null,
            "flex_flow": null,
            "grid_area": null,
            "grid_auto_columns": null,
            "grid_auto_flow": null,
            "grid_auto_rows": null,
            "grid_column": null,
            "grid_gap": null,
            "grid_row": null,
            "grid_template_areas": null,
            "grid_template_columns": null,
            "grid_template_rows": null,
            "height": null,
            "justify_content": null,
            "justify_items": null,
            "left": null,
            "margin": null,
            "max_height": null,
            "max_width": null,
            "min_height": null,
            "min_width": null,
            "object_fit": null,
            "object_position": null,
            "order": null,
            "overflow": null,
            "overflow_x": null,
            "overflow_y": null,
            "padding": null,
            "right": null,
            "top": null,
            "visibility": null,
            "width": null
          }
        },
        "7cef5b7ebdb348bc8a929d14c3f099eb": {
          "model_module": "@jupyter-widgets/base",
          "model_name": "LayoutModel",
          "model_module_version": "1.2.0",
          "state": {
            "_model_module": "@jupyter-widgets/base",
            "_model_module_version": "1.2.0",
            "_model_name": "LayoutModel",
            "_view_count": null,
            "_view_module": "@jupyter-widgets/base",
            "_view_module_version": "1.2.0",
            "_view_name": "LayoutView",
            "align_content": null,
            "align_items": null,
            "align_self": null,
            "border": null,
            "bottom": null,
            "display": null,
            "flex": null,
            "flex_flow": null,
            "grid_area": null,
            "grid_auto_columns": null,
            "grid_auto_flow": null,
            "grid_auto_rows": null,
            "grid_column": null,
            "grid_gap": null,
            "grid_row": null,
            "grid_template_areas": null,
            "grid_template_columns": null,
            "grid_template_rows": null,
            "height": null,
            "justify_content": null,
            "justify_items": null,
            "left": null,
            "margin": null,
            "max_height": null,
            "max_width": null,
            "min_height": null,
            "min_width": null,
            "object_fit": null,
            "object_position": null,
            "order": null,
            "overflow": null,
            "overflow_x": null,
            "overflow_y": null,
            "padding": null,
            "right": null,
            "top": null,
            "visibility": null,
            "width": null
          }
        },
        "26022e27bc2a4dbab50a068b69990d0e": {
          "model_module": "@jupyter-widgets/controls",
          "model_name": "DescriptionStyleModel",
          "model_module_version": "1.5.0",
          "state": {
            "_model_module": "@jupyter-widgets/controls",
            "_model_module_version": "1.5.0",
            "_model_name": "DescriptionStyleModel",
            "_view_count": null,
            "_view_module": "@jupyter-widgets/base",
            "_view_module_version": "1.2.0",
            "_view_name": "StyleView",
            "description_width": ""
          }
        },
        "4f5e3a0012174bcd9bf34279a04fe1e0": {
          "model_module": "@jupyter-widgets/base",
          "model_name": "LayoutModel",
          "model_module_version": "1.2.0",
          "state": {
            "_model_module": "@jupyter-widgets/base",
            "_model_module_version": "1.2.0",
            "_model_name": "LayoutModel",
            "_view_count": null,
            "_view_module": "@jupyter-widgets/base",
            "_view_module_version": "1.2.0",
            "_view_name": "LayoutView",
            "align_content": null,
            "align_items": null,
            "align_self": null,
            "border": null,
            "bottom": null,
            "display": null,
            "flex": null,
            "flex_flow": null,
            "grid_area": null,
            "grid_auto_columns": null,
            "grid_auto_flow": null,
            "grid_auto_rows": null,
            "grid_column": null,
            "grid_gap": null,
            "grid_row": null,
            "grid_template_areas": null,
            "grid_template_columns": null,
            "grid_template_rows": null,
            "height": null,
            "justify_content": null,
            "justify_items": null,
            "left": null,
            "margin": null,
            "max_height": null,
            "max_width": null,
            "min_height": null,
            "min_width": null,
            "object_fit": null,
            "object_position": null,
            "order": null,
            "overflow": null,
            "overflow_x": null,
            "overflow_y": null,
            "padding": null,
            "right": null,
            "top": null,
            "visibility": null,
            "width": null
          }
        },
        "978b0a330e4c4bc198284c964771d323": {
          "model_module": "@jupyter-widgets/controls",
          "model_name": "ProgressStyleModel",
          "model_module_version": "1.5.0",
          "state": {
            "_model_module": "@jupyter-widgets/controls",
            "_model_module_version": "1.5.0",
            "_model_name": "ProgressStyleModel",
            "_view_count": null,
            "_view_module": "@jupyter-widgets/base",
            "_view_module_version": "1.2.0",
            "_view_name": "StyleView",
            "bar_color": null,
            "description_width": ""
          }
        },
        "91faf6e94b984aad9e6dda2ce16a5b1c": {
          "model_module": "@jupyter-widgets/base",
          "model_name": "LayoutModel",
          "model_module_version": "1.2.0",
          "state": {
            "_model_module": "@jupyter-widgets/base",
            "_model_module_version": "1.2.0",
            "_model_name": "LayoutModel",
            "_view_count": null,
            "_view_module": "@jupyter-widgets/base",
            "_view_module_version": "1.2.0",
            "_view_name": "LayoutView",
            "align_content": null,
            "align_items": null,
            "align_self": null,
            "border": null,
            "bottom": null,
            "display": null,
            "flex": null,
            "flex_flow": null,
            "grid_area": null,
            "grid_auto_columns": null,
            "grid_auto_flow": null,
            "grid_auto_rows": null,
            "grid_column": null,
            "grid_gap": null,
            "grid_row": null,
            "grid_template_areas": null,
            "grid_template_columns": null,
            "grid_template_rows": null,
            "height": null,
            "justify_content": null,
            "justify_items": null,
            "left": null,
            "margin": null,
            "max_height": null,
            "max_width": null,
            "min_height": null,
            "min_width": null,
            "object_fit": null,
            "object_position": null,
            "order": null,
            "overflow": null,
            "overflow_x": null,
            "overflow_y": null,
            "padding": null,
            "right": null,
            "top": null,
            "visibility": null,
            "width": null
          }
        },
        "91086a2c0f234c459bcc5c39e93e3453": {
          "model_module": "@jupyter-widgets/controls",
          "model_name": "DescriptionStyleModel",
          "model_module_version": "1.5.0",
          "state": {
            "_model_module": "@jupyter-widgets/controls",
            "_model_module_version": "1.5.0",
            "_model_name": "DescriptionStyleModel",
            "_view_count": null,
            "_view_module": "@jupyter-widgets/base",
            "_view_module_version": "1.2.0",
            "_view_name": "StyleView",
            "description_width": ""
          }
        }
      }
    }
  },
  "cells": [
    {
      "cell_type": "markdown",
      "metadata": {
        "id": "view-in-github",
        "colab_type": "text"
      },
      "source": [
        "<a href=\"https://colab.research.google.com/github/NavyaSrija/Brain-Tumor-Segmentation-and-Classification-Using-MRI-and-CT-Imaging/blob/main/Untitled0.ipynb\" target=\"_parent\"><img src=\"https://colab.research.google.com/assets/colab-badge.svg\" alt=\"Open In Colab\"/></a>"
      ]
    },
    {
      "cell_type": "code",
      "execution_count": null,
      "metadata": {
        "colab": {
          "base_uri": "https://localhost:8080/"
        },
        "id": "1o6MEYdcCAxf",
        "outputId": "3effd553-0777-4bb5-ba16-d6222ade638d"
      },
      "outputs": [
        {
          "output_type": "stream",
          "name": "stdout",
          "text": [
            "Mounted at /content/drive\n"
          ]
        }
      ],
      "source": [
        "from google.colab import drive\n",
        "drive.mount('/content/drive')"
      ]
    },
    {
      "cell_type": "code",
      "source": [
        "import os\n",
        "from glob import glob\n",
        "\n",
        "# Set your data root paths\n",
        "CT_ROOT = \"/content/drive/MyDrive/brain_tumor_project/CT/Training\"\n",
        "MRI_ROOT = \"/content/drive/MyDrive/brain_tumor_project/MRI/BraTS2020_TrainingData\"\n",
        "# List some CT image files from each class\n",
        "print(\"Sample CT files:\")\n",
        "for cls in [\"glioma\", \"meningioma\", \"pituitary\", \"no_tumor\"]:\n",
        "    ct_files = glob(os.path.join(CT_ROOT, cls, \"*.jpg\"))\n",
        "    print(f\"  {cls}: found {len(ct_files)} images. Example: {ct_files[:2]}\")\n",
        "\n",
        "# List a few MRI and label files\n",
        "print(\"\\nSample MRI files:\")\n",
        "mri_img_files = sorted(glob(os.path.join(MRI_ROOT, \"*\", \"BraTS20_*_flair.nii.gz\")))\n",
        "mri_lbl_files = sorted(glob(os.path.join(MRI_ROOT, \"*\", \"BraTS20_*_seg.nii.gz\")))\n",
        "print(f\"  Found {len(mri_img_files)} MRI images. Example: {mri_img_files[:2]}\")\n",
        "print(f\"  Found {len(mri_lbl_files)} label images. Example: {mri_lbl_files[:2]}\")\n"
      ],
      "metadata": {
        "colab": {
          "base_uri": "https://localhost:8080/"
        },
        "id": "rek6EHYRCIde",
        "outputId": "02c71850-d357-4f13-e382-9e5a04a343da"
      },
      "execution_count": null,
      "outputs": [
        {
          "output_type": "stream",
          "name": "stdout",
          "text": [
            "Sample CT files:\n",
            "  glioma: found 200 images. Example: ['/content/drive/MyDrive/brain_tumor_project/CT/Training/glioma/gg (116).jpg', '/content/drive/MyDrive/brain_tumor_project/CT/Training/glioma/gg (50).jpg']\n",
            "  meningioma: found 199 images. Example: ['/content/drive/MyDrive/brain_tumor_project/CT/Training/meningioma/m (139).jpg', '/content/drive/MyDrive/brain_tumor_project/CT/Training/meningioma/m (185).jpg']\n",
            "  pituitary: found 298 images. Example: ['/content/drive/MyDrive/brain_tumor_project/CT/Training/pituitary/Tr-pi_0165.jpg', '/content/drive/MyDrive/brain_tumor_project/CT/Training/pituitary/Tr-pi_0150.jpg']\n",
            "  no_tumor: found 0 images. Example: []\n",
            "\n",
            "Sample MRI files:\n",
            "  Found 0 MRI images. Example: []\n",
            "  Found 0 label images. Example: []\n"
          ]
        }
      ]
    },
    {
      "cell_type": "code",
      "source": [
        "import os\n",
        "\n",
        "MRI_ROOT = \"/content/drive/MyDrive/brain_tumor_project/MRI/BraTS2020_TrainingData\"\n",
        "print(\"Contents of MRI_ROOT:\", os.listdir(MRI_ROOT))"
      ],
      "metadata": {
        "colab": {
          "base_uri": "https://localhost:8080/"
        },
        "id": "u1rrSSPsCIgH",
        "outputId": "e10a6598-59be-403d-fb00-55135718d65e"
      },
      "execution_count": null,
      "outputs": [
        {
          "output_type": "stream",
          "name": "stdout",
          "text": [
            "Contents of MRI_ROOT: ['MICCAI_BraTS2020_TrainingData']\n"
          ]
        }
      ]
    },
    {
      "cell_type": "code",
      "source": [
        "first_subfolder = os.path.join(MRI_ROOT, os.listdir(MRI_ROOT)[0])\n",
        "print(\"First subfolder:\", first_subfolder)\n",
        "print(\"Files inside:\", os.listdir(first_subfolder))\n",
        "\n"
      ],
      "metadata": {
        "colab": {
          "base_uri": "https://localhost:8080/"
        },
        "id": "VpqNvNNACIiq",
        "outputId": "9b8b4f08-183f-4858-c564-6bf25be1e233"
      },
      "execution_count": null,
      "outputs": [
        {
          "output_type": "stream",
          "name": "stdout",
          "text": [
            "First subfolder: /content/drive/MyDrive/brain_tumor_project/MRI/BraTS2020_TrainingData/MICCAI_BraTS2020_TrainingData\n",
            "Files inside: ['BraTS20_Training_001_flair.nii', 'BraTS20_Training_001_seg.nii', 'BraTS20_Training_001_t1.nii', 'BraTS20_Training_001_t1ce.nii', 'BraTS20_Training_001_t2.nii', 'BraTS20_Training_002_flair.nii', 'BraTS20_Training_002_seg.nii', 'BraTS20_Training_002_t1.nii', 'BraTS20_Training_002_t1ce.nii', 'BraTS20_Training_002_t2.nii', 'BraTS20_Training_003_flair.nii', 'BraTS20_Training_003_seg.nii', 'BraTS20_Training_003_t1.nii', 'BraTS20_Training_003_t1ce.nii', 'BraTS20_Training_003_t2.nii', 'BraTS20_Training_004_flair.nii', 'BraTS20_Training_004_seg.nii', 'BraTS20_Training_004_t1.nii', 'BraTS20_Training_004_t1ce.nii', 'BraTS20_Training_004_t2.nii', 'BraTS20_Training_005_flair.nii', 'BraTS20_Training_005_seg.nii', 'BraTS20_Training_005_t1ce.nii', 'BraTS20_Training_005_t1.nii', 'BraTS20_Training_005_t2.nii', 'BraTS20_Training_006_flair.nii', 'BraTS20_Training_006_seg.nii', 'BraTS20_Training_006_t1.nii', 'BraTS20_Training_006_t1ce.nii', 'BraTS20_Training_006_t2.nii', 'BraTS20_Training_007_flair.nii', 'BraTS20_Training_007_seg.nii', 'BraTS20_Training_007_t1.nii', 'BraTS20_Training_007_t1ce.nii', 'BraTS20_Training_008_flair.nii', 'BraTS20_Training_007_t2.nii', 'BraTS20_Training_008_seg.nii', 'BraTS20_Training_008_t1.nii', 'BraTS20_Training_008_t1ce.nii', 'BraTS20_Training_008_t2.nii', 'BraTS20_Training_009_flair.nii', 'BraTS20_Training_009_seg.nii', 'BraTS20_Training_009_t1.nii', 'BraTS20_Training_009_t1ce.nii', 'BraTS20_Training_009_t2.nii', 'BraTS20_Training_010_flair.nii', 'BraTS20_Training_010_t1.nii', 'BraTS20_Training_010_seg.nii', 'BraTS20_Training_010_t1ce.nii', 'BraTS20_Training_011_flair.nii', 'BraTS20_Training_010_t2.nii', 'BraTS20_Training_011_seg.nii', 'BraTS20_Training_011_t1.nii', 'BraTS20_Training_011_t2.nii', 'BraTS20_Training_011_t1ce.nii', 'BraTS20_Training_012_seg.nii', 'BraTS20_Training_012_flair.nii', 'BraTS20_Training_012_t1.nii', 'BraTS20_Training_012_t1ce.nii', 'BraTS20_Training_012_t2.nii', 'BraTS20_Training_013_flair.nii', 'BraTS20_Training_013_t1ce.nii', 'BraTS20_Training_013_t1.nii', 'BraTS20_Training_013_seg.nii', 'BraTS20_Training_013_t2.nii', 'BraTS20_Training_014_flair.nii', 'BraTS20_Training_014_t1.nii', 'BraTS20_Training_014_seg.nii', 'BraTS20_Training_014_t1ce.nii', 'BraTS20_Training_014_t2.nii', 'BraTS20_Training_015_flair.nii', 'BraTS20_Training_015_seg.nii', 'BraTS20_Training_015_t1ce.nii', 'BraTS20_Training_015_t1.nii', 'BraTS20_Training_015_t2.nii', 'BraTS20_Training_016_flair.nii', 'BraTS20_Training_016_t1.nii', 'BraTS20_Training_016_t1ce.nii', 'BraTS20_Training_016_seg.nii', 'BraTS20_Training_016_t2.nii', 'BraTS20_Training_017_flair.nii', 'BraTS20_Training_017_seg.nii', 'BraTS20_Training_017_t1.nii', 'BraTS20_Training_017_t1ce.nii', 'BraTS20_Training_017_t2.nii', 'BraTS20_Training_018_flair.nii', 'BraTS20_Training_018_seg.nii', 'BraTS20_Training_018_t1.nii', 'BraTS20_Training_018_t1ce.nii', 'BraTS20_Training_018_t2.nii', 'BraTS20_Training_019_flair.nii', 'BraTS20_Training_019_t1ce.nii', 'BraTS20_Training_019_t1.nii', 'BraTS20_Training_019_seg.nii', 'BraTS20_Training_019_t2.nii', 'BraTS20_Training_020_flair.nii', 'BraTS20_Training_020_seg.nii', 'BraTS20_Training_020_t1.nii', 'BraTS20_Training_020_t2.nii', 'BraTS20_Training_020_t1ce.nii', 'BraTS20_Training_021_t1.nii', 'BraTS20_Training_021_seg.nii', 'BraTS20_Training_021_flair.nii', 'BraTS20_Training_021_t2.nii', 'BraTS20_Training_021_t1ce.nii', 'BraTS20_Training_022_flair.nii', 'BraTS20_Training_022_seg.nii', 'BraTS20_Training_022_t1.nii', 'BraTS20_Training_022_t1ce.nii', 'BraTS20_Training_023_flair.nii', 'BraTS20_Training_022_t2.nii', 'BraTS20_Training_023_t1ce.nii', 'BraTS20_Training_023_seg.nii', 'BraTS20_Training_023_t1.nii', 'BraTS20_Training_024_flair.nii', 'BraTS20_Training_023_t2.nii', 'BraTS20_Training_024_t1.nii', 'BraTS20_Training_024_seg.nii', 'BraTS20_Training_024_t2.nii', 'BraTS20_Training_024_t1ce.nii', 'BraTS20_Training_025_t1.nii', 'BraTS20_Training_025_seg.nii', 'BraTS20_Training_025_flair.nii', 'BraTS20_Training_025_t1ce.nii', 'BraTS20_Training_025_t2.nii', 'BraTS20_Training_026_flair.nii', 'BraTS20_Training_026_t1.nii', 'BraTS20_Training_026_seg.nii', 'BraTS20_Training_026_t1ce.nii', 'BraTS20_Training_026_t2.nii', 'BraTS20_Training_027_flair.nii', 'BraTS20_Training_027_t1ce.nii', 'BraTS20_Training_027_t1.nii', 'BraTS20_Training_027_seg.nii', 'BraTS20_Training_028_flair.nii', 'BraTS20_Training_027_t2.nii', 'BraTS20_Training_028_t1.nii', 'BraTS20_Training_028_seg.nii', 'BraTS20_Training_028_t2.nii', 'BraTS20_Training_028_t1ce.nii', 'BraTS20_Training_029_t1.nii', 'BraTS20_Training_029_flair.nii', 'BraTS20_Training_029_seg.nii', 'BraTS20_Training_029_t2.nii', 'BraTS20_Training_029_t1ce.nii', 'BraTS20_Training_030_flair.nii', 'BraTS20_Training_030_seg.nii', 'BraTS20_Training_030_t1.nii', 'BraTS20_Training_030_t1ce.nii', 'BraTS20_Training_030_t2.nii', 'BraTS20_Training_031_flair.nii', 'BraTS20_Training_031_seg.nii', 'BraTS20_Training_031_t1.nii', 'BraTS20_Training_031_t1ce.nii', 'BraTS20_Training_031_t2.nii', 'BraTS20_Training_032_flair.nii', 'BraTS20_Training_032_t1.nii', 'BraTS20_Training_032_t1ce.nii', 'BraTS20_Training_032_seg.nii', 'BraTS20_Training_032_t2.nii', 'BraTS20_Training_033_flair.nii', 'BraTS20_Training_033_seg.nii', 'BraTS20_Training_033_t1.nii', 'BraTS20_Training_033_t1ce.nii', 'BraTS20_Training_033_t2.nii', 'BraTS20_Training_034_flair.nii', 'BraTS20_Training_034_t1.nii', 'BraTS20_Training_034_seg.nii', 'BraTS20_Training_034_t1ce.nii', 'BraTS20_Training_034_t2.nii', 'BraTS20_Training_035_t1.nii', 'BraTS20_Training_035_seg.nii', 'BraTS20_Training_035_flair.nii', 'BraTS20_Training_035_t1ce.nii', 'BraTS20_Training_035_t2.nii', 'BraTS20_Training_036_seg.nii', 'BraTS20_Training_036_flair.nii', 'BraTS20_Training_036_t1ce.nii', 'BraTS20_Training_036_t1.nii', 'BraTS20_Training_036_t2.nii', 'BraTS20_Training_037_flair.nii', 'BraTS20_Training_037_t1.nii', 'BraTS20_Training_037_seg.nii', 'BraTS20_Training_037_t1ce.nii', 'BraTS20_Training_038_flair.nii', 'BraTS20_Training_037_t2.nii', 'BraTS20_Training_038_t1ce.nii', 'BraTS20_Training_038_t1.nii', 'BraTS20_Training_038_seg.nii', 'BraTS20_Training_038_t2.nii', 'BraTS20_Training_039_flair.nii', 'BraTS20_Training_039_seg.nii', 'BraTS20_Training_039_t1.nii', 'BraTS20_Training_039_t2.nii', 'BraTS20_Training_039_t1ce.nii', 'BraTS20_Training_040_t1.nii', 'BraTS20_Training_040_seg.nii', 'BraTS20_Training_040_flair.nii', 'BraTS20_Training_040_t1ce.nii', 'BraTS20_Training_040_t2.nii', 'BraTS20_Training_041_flair.nii', 'BraTS20_Training_041_t1.nii', 'BraTS20_Training_041_seg.nii', 'BraTS20_Training_041_t1ce.nii', 'BraTS20_Training_042_flair.nii', 'BraTS20_Training_041_t2.nii', 'BraTS20_Training_042_t1.nii', 'BraTS20_Training_042_seg.nii', 'BraTS20_Training_042_t2.nii', 'BraTS20_Training_042_t1ce.nii', 'BraTS20_Training_043_flair.nii', 'BraTS20_Training_043_seg.nii', 'BraTS20_Training_043_t1.nii', 'BraTS20_Training_043_t2.nii', 'BraTS20_Training_043_t1ce.nii', 'BraTS20_Training_044_seg.nii', 'BraTS20_Training_044_flair.nii', 'BraTS20_Training_044_t1.nii', 'BraTS20_Training_044_t1ce.nii', 'BraTS20_Training_044_t2.nii', 'BraTS20_Training_045_flair.nii', 'BraTS20_Training_045_t1.nii', 'BraTS20_Training_045_seg.nii', 'BraTS20_Training_045_t1ce.nii', 'BraTS20_Training_046_flair.nii', 'BraTS20_Training_045_t2.nii', 'BraTS20_Training_046_t1.nii', 'BraTS20_Training_046_seg.nii', 'BraTS20_Training_046_t2.nii', 'BraTS20_Training_046_t1ce.nii', 'BraTS20_Training_047_flair.nii', 'BraTS20_Training_047_t1.nii', 'BraTS20_Training_047_seg.nii', 'BraTS20_Training_047_t1ce.nii', 'BraTS20_Training_047_t2.nii', 'BraTS20_Training_048_t1.nii', 'BraTS20_Training_048_seg.nii', 'BraTS20_Training_048_flair.nii', 'BraTS20_Training_048_t1ce.nii', 'BraTS20_Training_049_flair.nii', 'BraTS20_Training_048_t2.nii', 'BraTS20_Training_049_seg.nii', 'BraTS20_Training_049_t1.nii', 'BraTS20_Training_049_t1ce.nii', 'BraTS20_Training_049_t2.nii', 'BraTS20_Training_050_flair.nii', 'BraTS20_Training_050_t1ce.nii', 'BraTS20_Training_050_seg.nii', 'BraTS20_Training_050_t1.nii', 'BraTS20_Training_050_t2.nii', 'BraTS20_Training_051_flair.nii', 'BraTS20_Training_051_seg.nii', 'BraTS20_Training_051_t1.nii', 'BraTS20_Training_051_t2.nii', 'BraTS20_Training_051_t1ce.nii', 'BraTS20_Training_052_t1.nii', 'BraTS20_Training_052_seg.nii', 'BraTS20_Training_052_flair.nii', 'BraTS20_Training_052_t2.nii', 'BraTS20_Training_052_t1ce.nii', 'BraTS20_Training_053_flair.nii', 'BraTS20_Training_053_t1.nii', 'BraTS20_Training_053_seg.nii', 'BraTS20_Training_053_t2.nii', 'BraTS20_Training_053_t1ce.nii', 'BraTS20_Training_054_flair.nii', 'BraTS20_Training_054_seg.nii', 'BraTS20_Training_054_t1.nii', 'BraTS20_Training_054_t1ce.nii', 'BraTS20_Training_054_t2.nii', 'BraTS20_Training_055_flair.nii', 'BraTS20_Training_055_t1ce.nii', 'BraTS20_Training_055_seg.nii', 'BraTS20_Training_055_t1.nii', 'BraTS20_Training_056_flair.nii', 'BraTS20_Training_055_t2.nii', 'BraTS20_Training_056_t1.nii', 'BraTS20_Training_056_seg.nii', 'BraTS20_Training_056_t1ce.nii', 'BraTS20_Training_056_t2.nii', 'BraTS20_Training_057_flair.nii', 'BraTS20_Training_057_seg.nii', 'BraTS20_Training_057_t1ce.nii', 'BraTS20_Training_057_t1.nii', 'BraTS20_Training_057_t2.nii', 'BraTS20_Training_058_flair.nii', 'BraTS20_Training_058_seg.nii', 'BraTS20_Training_058_t1.nii', 'BraTS20_Training_058_t1ce.nii', 'BraTS20_Training_058_t2.nii', 'BraTS20_Training_059_flair.nii', 'BraTS20_Training_059_t1.nii', 'BraTS20_Training_059_seg.nii', 'BraTS20_Training_059_t1ce.nii', 'BraTS20_Training_059_t2.nii', 'BraTS20_Training_060_seg.nii', 'BraTS20_Training_060_flair.nii', 'BraTS20_Training_060_t1ce.nii', 'BraTS20_Training_060_t1.nii', 'BraTS20_Training_061_flair.nii', 'BraTS20_Training_060_t2.nii', 'BraTS20_Training_061_t1ce.nii', 'BraTS20_Training_061_t1.nii', 'BraTS20_Training_061_seg.nii', 'BraTS20_Training_062_flair.nii', 'BraTS20_Training_061_t2.nii', 'BraTS20_Training_062_t1.nii', 'BraTS20_Training_062_seg.nii', 'BraTS20_Training_062_t2.nii', 'BraTS20_Training_062_t1ce.nii', 'BraTS20_Training_063_flair.nii', 'BraTS20_Training_063_seg.nii', 'BraTS20_Training_063_t1.nii', 'BraTS20_Training_063_t1ce.nii', 'BraTS20_Training_063_t2.nii', 'BraTS20_Training_064_seg.nii', 'BraTS20_Training_064_flair.nii', 'BraTS20_Training_064_t1.nii', 'BraTS20_Training_064_t2.nii', 'BraTS20_Training_064_t1ce.nii', 'BraTS20_Training_065_flair.nii', 'BraTS20_Training_065_seg.nii', 'BraTS20_Training_065_t1ce.nii', 'BraTS20_Training_065_t1.nii', 'BraTS20_Training_065_t2.nii', 'BraTS20_Training_066_flair.nii', 'BraTS20_Training_066_seg.nii', 'BraTS20_Training_066_t1ce.nii', 'BraTS20_Training_066_t1.nii', 'BraTS20_Training_067_flair.nii', 'BraTS20_Training_066_t2.nii', 'BraTS20_Training_067_t1.nii', 'BraTS20_Training_067_seg.nii', 'BraTS20_Training_067_t1ce.nii', 'BraTS20_Training_067_t2.nii', 'BraTS20_Training_068_flair.nii', 'BraTS20_Training_068_t1.nii', 'BraTS20_Training_068_seg.nii', 'BraTS20_Training_068_t2.nii', 'BraTS20_Training_068_t1ce.nii', 'BraTS20_Training_069_flair.nii', 'BraTS20_Training_069_seg.nii', 'BraTS20_Training_069_t1ce.nii', 'BraTS20_Training_069_t1.nii', 'BraTS20_Training_069_t2.nii', 'BraTS20_Training_070_flair.nii', 'BraTS20_Training_070_t1ce.nii', 'BraTS20_Training_070_t1.nii', 'BraTS20_Training_070_seg.nii', 'BraTS20_Training_070_t2.nii', 'BraTS20_Training_071_flair.nii', 'BraTS20_Training_071_t1.nii', 'BraTS20_Training_071_seg.nii', 'BraTS20_Training_071_t1ce.nii', 'BraTS20_Training_071_t2.nii', 'BraTS20_Training_072_flair.nii', 'BraTS20_Training_072_seg.nii', 'BraTS20_Training_072_t1ce.nii', 'BraTS20_Training_072_t1.nii', 'BraTS20_Training_073_flair.nii', 'BraTS20_Training_072_t2.nii', 'BraTS20_Training_073_seg.nii', 'BraTS20_Training_073_t1ce.nii', 'BraTS20_Training_073_t1.nii', 'BraTS20_Training_073_t2.nii', 'BraTS20_Training_074_flair.nii', 'BraTS20_Training_074_t1ce.nii', 'BraTS20_Training_074_t1.nii', 'BraTS20_Training_074_seg.nii', 'BraTS20_Training_074_t2.nii', 'BraTS20_Training_075_seg.nii', 'BraTS20_Training_075_flair.nii', 'BraTS20_Training_075_t1ce.nii', 'BraTS20_Training_075_t1.nii', 'BraTS20_Training_076_flair.nii', 'BraTS20_Training_075_t2.nii', 'BraTS20_Training_076_seg.nii', 'BraTS20_Training_076_t1.nii', 'BraTS20_Training_076_t2.nii', 'BraTS20_Training_076_t1ce.nii', 'BraTS20_Training_077_seg.nii', 'BraTS20_Training_077_flair.nii', 'BraTS20_Training_077_t1ce.nii', 'BraTS20_Training_077_t1.nii', 'BraTS20_Training_078_flair.nii', 'BraTS20_Training_077_t2.nii', 'BraTS20_Training_078_seg.nii', 'BraTS20_Training_078_t1.nii', 'BraTS20_Training_078_t2.nii', 'BraTS20_Training_078_t1ce.nii', 'BraTS20_Training_079_flair.nii', 'BraTS20_Training_079_seg.nii', 'BraTS20_Training_079_t1.nii', 'BraTS20_Training_079_t1ce.nii', 'BraTS20_Training_079_t2.nii', 'BraTS20_Training_080_seg.nii', 'BraTS20_Training_080_flair.nii', 'BraTS20_Training_080_t1.nii', 'BraTS20_Training_080_t1ce.nii', 'BraTS20_Training_080_t2.nii', 'BraTS20_Training_081_flair.nii', 'BraTS20_Training_081_seg.nii', 'BraTS20_Training_081_t1ce.nii', 'BraTS20_Training_081_t1.nii', 'BraTS20_Training_082_flair.nii', 'BraTS20_Training_081_t2.nii', 'BraTS20_Training_082_t1.nii', 'BraTS20_Training_082_seg.nii', 'BraTS20_Training_082_t1ce.nii', 'BraTS20_Training_082_t2.nii', 'BraTS20_Training_083_flair.nii', 'BraTS20_Training_083_seg.nii', 'BraTS20_Training_083_t1.nii', 'BraTS20_Training_083_t1ce.nii', 'BraTS20_Training_084_flair.nii', 'BraTS20_Training_083_t2.nii', 'BraTS20_Training_084_t1.nii', 'BraTS20_Training_084_seg.nii', 'BraTS20_Training_084_t1ce.nii', 'BraTS20_Training_085_flair.nii', 'BraTS20_Training_084_t2.nii', 'BraTS20_Training_085_seg.nii', 'BraTS20_Training_085_t1.nii', 'BraTS20_Training_085_t1ce.nii', 'BraTS20_Training_086_flair.nii', 'BraTS20_Training_085_t2.nii', 'BraTS20_Training_086_t1.nii', 'BraTS20_Training_086_seg.nii', 'BraTS20_Training_086_t1ce.nii', 'BraTS20_Training_086_t2.nii', 'BraTS20_Training_087_seg.nii', 'BraTS20_Training_087_flair.nii', 'BraTS20_Training_087_t1.nii', 'BraTS20_Training_087_t1ce.nii', 'BraTS20_Training_087_t2.nii', 'BraTS20_Training_088_flair.nii', 'BraTS20_Training_088_seg.nii', 'BraTS20_Training_088_t1ce.nii', 'BraTS20_Training_088_t1.nii', 'BraTS20_Training_088_t2.nii', 'BraTS20_Training_089_flair.nii', 'BraTS20_Training_089_seg.nii', 'BraTS20_Training_089_t1.nii', 'BraTS20_Training_089_t2.nii', 'BraTS20_Training_089_t1ce.nii', 'BraTS20_Training_090_flair.nii', 'BraTS20_Training_090_t1.nii', 'BraTS20_Training_090_seg.nii', 'BraTS20_Training_090_t1ce.nii', 'BraTS20_Training_090_t2.nii', 'BraTS20_Training_091_flair.nii', 'BraTS20_Training_091_t1.nii', 'BraTS20_Training_091_seg.nii', 'BraTS20_Training_091_t1ce.nii', 'BraTS20_Training_091_t2.nii', 'BraTS20_Training_092_flair.nii', 'BraTS20_Training_092_seg.nii', 'BraTS20_Training_092_t1.nii', 'BraTS20_Training_092_t2.nii', 'BraTS20_Training_092_t1ce.nii', 'BraTS20_Training_093_flair.nii', 'BraTS20_Training_093_seg.nii', 'BraTS20_Training_093_t1.nii', 'BraTS20_Training_093_t1ce.nii', 'BraTS20_Training_094_flair.nii', 'BraTS20_Training_093_t2.nii', 'BraTS20_Training_094_seg.nii', 'BraTS20_Training_094_t1.nii', 'BraTS20_Training_094_t1ce.nii', 'BraTS20_Training_094_t2.nii', 'BraTS20_Training_095_seg.nii', 'BraTS20_Training_095_flair.nii', 'BraTS20_Training_095_t1.nii', 'BraTS20_Training_095_t2.nii', 'BraTS20_Training_095_t1ce.nii', 'BraTS20_Training_096_flair.nii', 'BraTS20_Training_096_t1.nii', 'BraTS20_Training_096_seg.nii', 'BraTS20_Training_096_t1ce.nii', 'BraTS20_Training_096_t2.nii', 'BraTS20_Training_097_flair.nii', 'BraTS20_Training_097_seg.nii', 'BraTS20_Training_097_t1.nii', 'BraTS20_Training_097_t1ce.nii', 'BraTS20_Training_097_t2.nii', 'BraTS20_Training_098_flair.nii', 'BraTS20_Training_098_seg.nii', 'BraTS20_Training_098_t1.nii', 'BraTS20_Training_098_t1ce.nii', 'BraTS20_Training_099_flair.nii', 'BraTS20_Training_098_t2.nii', 'BraTS20_Training_099_seg.nii', 'BraTS20_Training_099_t1.nii', 'BraTS20_Training_099_t1ce.nii', 'BraTS20_Training_100_flair.nii', 'BraTS20_Training_099_t2.nii', 'BraTS20_Training_100_seg.nii', 'BraTS20_Training_100_t1.nii', 'BraTS20_Training_100_t1ce.nii', 'BraTS20_Training_100_t2.nii', 'BraTS20_Training_101_flair.nii', 'BraTS20_Training_101_seg.nii', 'BraTS20_Training_101_t1.nii', 'BraTS20_Training_101_t1ce.nii', 'BraTS20_Training_101_t2.nii', 'BraTS20_Training_102_flair.nii', 'BraTS20_Training_102_seg.nii', 'BraTS20_Training_102_t1.nii', 'BraTS20_Training_102_t1ce.nii', 'BraTS20_Training_102_t2.nii', 'BraTS20_Training_103_flair.nii', 'BraTS20_Training_103_seg.nii', 'BraTS20_Training_103_t1.nii', 'BraTS20_Training_103_t1ce.nii', 'BraTS20_Training_103_t2.nii', 'BraTS20_Training_104_flair.nii', 'BraTS20_Training_104_seg.nii', 'BraTS20_Training_104_t1.nii', 'BraTS20_Training_104_t1ce.nii', 'BraTS20_Training_104_t2.nii', 'BraTS20_Training_105_flair.nii', 'BraTS20_Training_105_seg.nii', 'BraTS20_Training_105_t1.nii', 'BraTS20_Training_105_t1ce.nii', 'BraTS20_Training_105_t2.nii', 'BraTS20_Training_106_flair.nii', 'BraTS20_Training_106_seg.nii', 'BraTS20_Training_106_t1.nii', 'BraTS20_Training_106_t1ce.nii', 'BraTS20_Training_106_t2.nii', 'BraTS20_Training_107_flair.nii', 'BraTS20_Training_107_seg.nii', 'BraTS20_Training_107_t1.nii', 'BraTS20_Training_107_t1ce.nii', 'BraTS20_Training_107_t2.nii', 'BraTS20_Training_108_seg.nii', 'BraTS20_Training_108_flair.nii', 'BraTS20_Training_108_t1ce.nii', 'BraTS20_Training_108_t1.nii', 'BraTS20_Training_108_t2.nii', 'BraTS20_Training_109_flair.nii', 'BraTS20_Training_109_t1.nii', 'BraTS20_Training_109_seg.nii', 'BraTS20_Training_109_t1ce.nii', 'BraTS20_Training_110_flair.nii', 'BraTS20_Training_109_t2.nii', 'BraTS20_Training_110_seg.nii', 'BraTS20_Training_110_t1.nii', 'BraTS20_Training_110_t1ce.nii', 'BraTS20_Training_110_t2.nii', 'BraTS20_Training_111_flair.nii', 'BraTS20_Training_111_t1.nii', 'BraTS20_Training_111_seg.nii', 'BraTS20_Training_111_t1ce.nii', 'BraTS20_Training_111_t2.nii', 'BraTS20_Training_112_flair.nii', 'BraTS20_Training_112_seg.nii', 'BraTS20_Training_112_t1ce.nii', 'BraTS20_Training_112_t1.nii', 'BraTS20_Training_112_t2.nii', 'BraTS20_Training_113_seg.nii', 'BraTS20_Training_113_flair.nii', 'BraTS20_Training_113_t1.nii', 'BraTS20_Training_113_t1ce.nii', 'BraTS20_Training_113_t2.nii', 'BraTS20_Training_114_flair.nii', 'BraTS20_Training_114_seg.nii', 'BraTS20_Training_114_t1.nii', 'BraTS20_Training_114_t1ce.nii', 'BraTS20_Training_115_flair.nii', 'BraTS20_Training_114_t2.nii', 'BraTS20_Training_115_seg.nii', 'BraTS20_Training_115_t1ce.nii', 'BraTS20_Training_115_t1.nii', 'BraTS20_Training_115_t2.nii', 'BraTS20_Training_116_flair.nii', 'BraTS20_Training_116_seg.nii', 'BraTS20_Training_116_t1.nii', 'BraTS20_Training_116_t1ce.nii', 'BraTS20_Training_117_flair.nii', 'BraTS20_Training_116_t2.nii', 'BraTS20_Training_117_seg.nii', 'BraTS20_Training_117_t1.nii', 'BraTS20_Training_117_t1ce.nii', 'BraTS20_Training_118_flair.nii', 'BraTS20_Training_117_t2.nii', 'BraTS20_Training_118_seg.nii', 'BraTS20_Training_118_t1ce.nii', 'BraTS20_Training_118_t1.nii', 'BraTS20_Training_118_t2.nii', 'BraTS20_Training_119_flair.nii', 'BraTS20_Training_119_seg.nii', 'BraTS20_Training_119_t1ce.nii', 'BraTS20_Training_119_t1.nii', 'BraTS20_Training_119_t2.nii', 'BraTS20_Training_120_flair.nii', 'BraTS20_Training_120_seg.nii', 'BraTS20_Training_120_t1ce.nii', 'BraTS20_Training_120_t1.nii', 'BraTS20_Training_120_t2.nii', 'BraTS20_Training_121_flair.nii', 'BraTS20_Training_121_seg.nii', 'BraTS20_Training_121_t1.nii', 'BraTS20_Training_121_t1ce.nii', 'BraTS20_Training_121_t2.nii', 'BraTS20_Training_122_flair.nii', 'BraTS20_Training_122_seg.nii', 'BraTS20_Training_122_t1.nii', 'BraTS20_Training_122_t1ce.nii', 'BraTS20_Training_122_t2.nii', 'BraTS20_Training_123_flair.nii', 'BraTS20_Training_123_seg.nii', 'BraTS20_Training_123_t1.nii', 'BraTS20_Training_123_t1ce.nii', 'BraTS20_Training_123_t2.nii', 'BraTS20_Training_124_flair.nii', 'BraTS20_Training_124_t1.nii', 'BraTS20_Training_124_seg.nii', 'BraTS20_Training_124_t1ce.nii', 'BraTS20_Training_124_t2.nii', 'BraTS20_Training_125_flair.nii', 'BraTS20_Training_125_seg.nii', 'BraTS20_Training_125_t1.nii', 'BraTS20_Training_125_t1ce.nii', 'BraTS20_Training_125_t2.nii', 'BraTS20_Training_126_flair.nii', 'BraTS20_Training_126_seg.nii', 'BraTS20_Training_126_t1.nii', 'BraTS20_Training_126_t1ce.nii', 'BraTS20_Training_126_t2.nii', 'BraTS20_Training_127_flair.nii', 'BraTS20_Training_127_seg.nii', 'BraTS20_Training_127_t1.nii', 'BraTS20_Training_127_t1ce.nii', 'BraTS20_Training_127_t2.nii', 'BraTS20_Training_128_flair.nii', 'BraTS20_Training_128_t1.nii', 'BraTS20_Training_128_seg.nii', 'BraTS20_Training_128_t1ce.nii', 'BraTS20_Training_128_t2.nii', 'BraTS20_Training_129_flair.nii', 'BraTS20_Training_129_t1.nii', 'BraTS20_Training_129_seg.nii', 'BraTS20_Training_129_t1ce.nii', 'BraTS20_Training_129_t2.nii', 'BraTS20_Training_130_flair.nii', 'BraTS20_Training_130_t1.nii', 'BraTS20_Training_130_seg.nii', 'BraTS20_Training_130_t1ce.nii', 'BraTS20_Training_130_t2.nii', 'BraTS20_Training_131_flair.nii', 'BraTS20_Training_131_seg.nii', 'BraTS20_Training_131_t1ce.nii', 'BraTS20_Training_131_t1.nii', 'BraTS20_Training_131_t2.nii', 'BraTS20_Training_132_seg.nii', 'BraTS20_Training_132_flair.nii', 'BraTS20_Training_132_t1.nii', 'BraTS20_Training_132_t1ce.nii', 'BraTS20_Training_132_t2.nii', 'BraTS20_Training_133_seg.nii', 'BraTS20_Training_133_flair.nii', 'BraTS20_Training_133_t1.nii', 'BraTS20_Training_133_t1ce.nii', 'BraTS20_Training_133_t2.nii', 'BraTS20_Training_134_flair.nii', 'BraTS20_Training_134_t1.nii', 'BraTS20_Training_134_seg.nii', 'BraTS20_Training_134_t1ce.nii', 'BraTS20_Training_134_t2.nii', 'BraTS20_Training_135_flair.nii', 'BraTS20_Training_135_seg.nii', 'BraTS20_Training_135_t1.nii', 'BraTS20_Training_135_t1ce.nii', 'BraTS20_Training_135_t2.nii', 'BraTS20_Training_136_flair.nii', 'BraTS20_Training_136_t1.nii', 'BraTS20_Training_136_seg.nii', 'BraTS20_Training_136_t1ce.nii', 'BraTS20_Training_136_t2.nii', 'BraTS20_Training_137_flair.nii', 'BraTS20_Training_137_seg.nii', 'BraTS20_Training_137_t1.nii', 'BraTS20_Training_137_t1ce.nii', 'BraTS20_Training_137_t2.nii', 'BraTS20_Training_138_seg.nii', 'BraTS20_Training_138_flair.nii', 'BraTS20_Training_138_t1.nii', 'BraTS20_Training_138_t1ce.nii', 'BraTS20_Training_138_t2.nii', 'BraTS20_Training_139_flair.nii', 'BraTS20_Training_139_seg.nii', 'BraTS20_Training_139_t1.nii', 'BraTS20_Training_139_t1ce.nii', 'BraTS20_Training_140_flair.nii', 'BraTS20_Training_139_t2.nii', 'BraTS20_Training_140_seg.nii', 'BraTS20_Training_140_t1ce.nii', 'BraTS20_Training_140_t1.nii', 'BraTS20_Training_140_t2.nii', 'BraTS20_Training_141_flair.nii', 'BraTS20_Training_141_t1.nii', 'BraTS20_Training_141_seg.nii', 'BraTS20_Training_141_t2.nii', 'BraTS20_Training_141_t1ce.nii', 'BraTS20_Training_142_flair.nii', 'BraTS20_Training_142_t1.nii', 'BraTS20_Training_142_seg.nii', 'BraTS20_Training_142_t2.nii', 'BraTS20_Training_142_t1ce.nii', 'BraTS20_Training_143_flair.nii', 'BraTS20_Training_143_seg.nii', 'BraTS20_Training_143_t1.nii', 'BraTS20_Training_143_t2.nii', 'BraTS20_Training_143_t1ce.nii', 'BraTS20_Training_144_flair.nii', 'BraTS20_Training_144_t1.nii', 'BraTS20_Training_144_seg.nii', 'BraTS20_Training_144_t2.nii', 'BraTS20_Training_144_t1ce.nii', 'BraTS20_Training_145_seg.nii', 'BraTS20_Training_145_flair.nii', 'BraTS20_Training_145_t1.nii', 'BraTS20_Training_145_t1ce.nii', 'BraTS20_Training_145_t2.nii', 'BraTS20_Training_146_flair.nii', 'BraTS20_Training_146_seg.nii', 'BraTS20_Training_146_t1ce.nii', 'BraTS20_Training_146_t1.nii', 'BraTS20_Training_146_t2.nii', 'BraTS20_Training_147_flair.nii', 'BraTS20_Training_147_seg.nii', 'BraTS20_Training_147_t1.nii', 'BraTS20_Training_147_t1ce.nii', 'BraTS20_Training_148_flair.nii', 'BraTS20_Training_147_t2.nii', 'BraTS20_Training_148_seg.nii', 'BraTS20_Training_148_t1.nii', 'BraTS20_Training_148_t1ce.nii', 'BraTS20_Training_148_t2.nii', 'BraTS20_Training_149_flair.nii', 'BraTS20_Training_149_t1.nii', 'BraTS20_Training_149_seg.nii', 'BraTS20_Training_149_t1ce.nii', 'BraTS20_Training_149_t2.nii', 'BraTS20_Training_150_flair.nii', 'BraTS20_Training_150_t1.nii', 'BraTS20_Training_150_seg.nii', 'BraTS20_Training_150_t1ce.nii', 'BraTS20_Training_150_t2.nii', 'BraTS20_Training_151_flair.nii', 'BraTS20_Training_151_seg.nii', 'BraTS20_Training_151_t1ce.nii', 'BraTS20_Training_151_t1.nii', 'BraTS20_Training_151_t2.nii', 'BraTS20_Training_152_seg.nii', 'BraTS20_Training_152_flair.nii', 'BraTS20_Training_152_t1.nii', 'BraTS20_Training_152_t1ce.nii', 'BraTS20_Training_152_t2.nii', 'BraTS20_Training_153_flair.nii', 'BraTS20_Training_153_seg.nii', 'BraTS20_Training_153_t1.nii', 'BraTS20_Training_153_t1ce.nii', 'BraTS20_Training_154_flair.nii', 'BraTS20_Training_153_t2.nii', 'BraTS20_Training_154_t1.nii', 'BraTS20_Training_154_seg.nii', 'BraTS20_Training_154_t1ce.nii', 'BraTS20_Training_154_t2.nii', 'BraTS20_Training_155_flair.nii', 'BraTS20_Training_155_seg.nii', 'BraTS20_Training_155_t1.nii', 'BraTS20_Training_155_t2.nii', 'BraTS20_Training_155_t1ce.nii', 'BraTS20_Training_156_flair.nii', 'BraTS20_Training_156_seg.nii', 'BraTS20_Training_156_t1.nii', 'BraTS20_Training_156_t1ce.nii', 'BraTS20_Training_156_t2.nii', 'BraTS20_Training_157_seg.nii', 'BraTS20_Training_157_flair.nii', 'BraTS20_Training_157_t1ce.nii', 'BraTS20_Training_157_t1.nii', 'BraTS20_Training_157_t2.nii', 'BraTS20_Training_158_flair.nii', 'BraTS20_Training_158_seg.nii', 'BraTS20_Training_158_t1.nii', 'BraTS20_Training_158_t1ce.nii', 'BraTS20_Training_159_flair.nii', 'BraTS20_Training_158_t2.nii', 'BraTS20_Training_159_t1.nii', 'BraTS20_Training_159_seg.nii', 'BraTS20_Training_159_t2.nii', 'BraTS20_Training_159_t1ce.nii', 'BraTS20_Training_160_seg.nii', 'BraTS20_Training_160_flair.nii', 'BraTS20_Training_160_t1ce.nii', 'BraTS20_Training_160_t1.nii', 'BraTS20_Training_160_t2.nii']\n"
          ]
        }
      ]
    },
    {
      "cell_type": "code",
      "source": [
        "MRI_ROOT = \"/content/drive/MyDrive/brain_tumor_project/MRI/BraTS2020_TrainingData/MICCAI_BraTS2020_TrainingData/\"\n",
        "\n"
      ],
      "metadata": {
        "id": "lSUCuefWCIlE"
      },
      "execution_count": null,
      "outputs": []
    },
    {
      "cell_type": "code",
      "source": [
        "from glob import glob\n",
        "import os\n",
        "\n",
        "# Get all FLAIR and SEG files\n",
        "mri_images = sorted(glob(os.path.join(MRI_ROOT, \"*_flair.nii\")))\n",
        "mri_labels = sorted(glob(os.path.join(MRI_ROOT, \"*_seg.nii\")))\n",
        "\n",
        "print(f\"Found {len(mri_images)} FLAIR images\")\n",
        "print(\"Example FLAIR:\", mri_images[:2])\n",
        "print(f\"Found {len(mri_labels)} SEG masks\")\n",
        "print(\"Example SEG:\", mri_labels[:2])\n"
      ],
      "metadata": {
        "colab": {
          "base_uri": "https://localhost:8080/"
        },
        "id": "_WLT0DxqClin",
        "outputId": "6fe9cce1-0878-4f13-fca4-f0e7f6a8c495"
      },
      "execution_count": null,
      "outputs": [
        {
          "output_type": "stream",
          "name": "stdout",
          "text": [
            "Found 160 FLAIR images\n",
            "Example FLAIR: ['/content/drive/MyDrive/brain_tumor_project/MRI/BraTS2020_TrainingData/MICCAI_BraTS2020_TrainingData/BraTS20_Training_001_flair.nii', '/content/drive/MyDrive/brain_tumor_project/MRI/BraTS2020_TrainingData/MICCAI_BraTS2020_TrainingData/BraTS20_Training_002_flair.nii']\n",
            "Found 160 SEG masks\n",
            "Example SEG: ['/content/drive/MyDrive/brain_tumor_project/MRI/BraTS2020_TrainingData/MICCAI_BraTS2020_TrainingData/BraTS20_Training_001_seg.nii', '/content/drive/MyDrive/brain_tumor_project/MRI/BraTS2020_TrainingData/MICCAI_BraTS2020_TrainingData/BraTS20_Training_002_seg.nii']\n"
          ]
        }
      ]
    },
    {
      "cell_type": "code",
      "source": [
        "# Match pairs by subject prefix\n",
        "data_dicts = []\n",
        "for img in mri_images:\n",
        "    base = os.path.basename(img).replace('_flair.nii', '')\n",
        "    seg = os.path.join(MRI_ROOT, base + '_seg.nii')\n",
        "    if os.path.exists(seg):\n",
        "        data_dicts.append({\"image\": img, \"label\": seg})\n",
        "print(f\"Paired {len(data_dicts)} FLAIR images and masks\")\n"
      ],
      "metadata": {
        "colab": {
          "base_uri": "https://localhost:8080/"
        },
        "id": "twKFa_JfCllS",
        "outputId": "ca967b0f-9cda-4de5-877b-1bb3c94b7375"
      },
      "execution_count": null,
      "outputs": [
        {
          "output_type": "stream",
          "name": "stdout",
          "text": [
            "Paired 160 FLAIR images and masks\n"
          ]
        }
      ]
    },
    {
      "cell_type": "code",
      "source": [
        "import nibabel as nib\n",
        "import numpy as np\n",
        "import os\n",
        "\n",
        "def load_nifti_img_mask(img_path, mask_path):\n",
        "    img_obj = nib.load(img_path)\n",
        "    mask_obj = nib.load(mask_path)\n",
        "    img = img_obj.get_fdata()    # [H, W, Slices]\n",
        "    mask = mask_obj.get_fdata()\n",
        "    return img, mask\n",
        "\n",
        "# Example: Load a volume and pick a middle slice\n",
        "img_path, mask_path = mri_images[0], mri_labels[0]\n",
        "img_vol, mask_vol = load_nifti_img_mask(img_path, mask_path)\n",
        "mid_slice = img_vol.shape[2] // 2\n",
        "img2d = img_vol[:, :, mid_slice]\n",
        "mask2d = mask_vol[:, :, mid_slice]\n",
        "print(\"Image shape:\", img2d.shape, \"Mask shape:\", mask2d.shape)\n"
      ],
      "metadata": {
        "colab": {
          "base_uri": "https://localhost:8080/"
        },
        "id": "3WGJ-v1hClnc",
        "outputId": "137d204b-f11a-41b0-ae96-b048d18a9d93"
      },
      "execution_count": null,
      "outputs": [
        {
          "output_type": "stream",
          "name": "stdout",
          "text": [
            "Image shape: (240, 240) Mask shape: (240, 240)\n"
          ]
        }
      ]
    },
    {
      "cell_type": "code",
      "source": [
        "from torch.utils.data import Dataset, DataLoader\n",
        "import torch\n",
        "import cv2\n",
        "\n",
        "class BraTSSliceDataset(Dataset):\n",
        "    def __init__(self, img_files, mask_files, slice_indices=None, resize=(256,256)):\n",
        "        self.img_files = img_files\n",
        "        self.mask_files = mask_files\n",
        "        self.resize = resize\n",
        "        self.slice_indices = slice_indices  # None = all slices, else list of indices\n",
        "\n",
        "        # Precompute volume indices for all slices\n",
        "        self.slices = []\n",
        "        for i, (img_f, mask_f) in enumerate(zip(self.img_files, self.mask_files)):\n",
        "            img = nib.load(img_f).get_fdata()\n",
        "            num_slices = img.shape[2]\n",
        "            for s in range(num_slices):\n",
        "                if (self.slice_indices is None) or (s in self.slice_indices):\n",
        "                    self.slices.append((i, s))\n",
        "\n",
        "    def __len__(self):\n",
        "        return len(self.slices)\n",
        "\n",
        "    def __getitem__(self, idx):\n",
        "        vol_idx, slice_idx = self.slices[idx]\n",
        "        img = nib.load(self.img_files[vol_idx]).get_fdata()[:,:,slice_idx]\n",
        "        mask = nib.load(self.mask_files[vol_idx]).get_fdata()[:,:,slice_idx]\n",
        "\n",
        "        # Normalize image and resize\n",
        "        img = (img - img.min()) / (img.max() - img.min() + 1e-8)\n",
        "        img = cv2.resize(img, self.resize)\n",
        "        mask = cv2.resize(mask, self.resize, interpolation=cv2.INTER_NEAREST)\n",
        "        # FLAIR is single channel, convert to 3\n",
        "        img = np.stack([img]*3, axis=0)\n",
        "        img = torch.tensor(img, dtype=torch.float)\n",
        "        mask = torch.tensor(mask, dtype=torch.long)\n",
        "        mask = (mask > 0).long()  # For binary segmentation (1=tumor, 0=background)\n",
        "        return img, mask\n",
        "\n",
        "# Split train/val (use first 120 for train, 40 for val as example)\n",
        "train_imgs, val_imgs = mri_images[:120], mri_images[120:]\n",
        "train_masks, val_masks = mri_labels[:120], mri_labels[120:]\n",
        "train_ds = BraTSSliceDataset(train_imgs, train_masks)\n",
        "val_ds = BraTSSliceDataset(val_imgs, val_masks)\n",
        "train_loader = DataLoader(train_ds, batch_size=4, shuffle=True, num_workers=2)\n",
        "val_loader = DataLoader(val_ds, batch_size=1, shuffle=False)\n"
      ],
      "metadata": {
        "id": "W6Z2iNMEClqA"
      },
      "execution_count": null,
      "outputs": []
    },
    {
      "cell_type": "code",
      "source": [
        "!pip install -U segmentation-models-pytorch --quiet\n",
        "!pip install -U timm --quiet  # Sometimes needed for newer backbones\n"
      ],
      "metadata": {
        "colab": {
          "base_uri": "https://localhost:8080/"
        },
        "id": "Wmh9QFVlGyF6",
        "outputId": "c79b0048-814c-415b-d4e9-327bd65586c6"
      },
      "execution_count": null,
      "outputs": [
        {
          "output_type": "stream",
          "name": "stdout",
          "text": [
            "\u001b[2K   \u001b[90m━━━━━━━━━━━━━━━━━━━━━━━━━━━━━━━━━━━━━━━━\u001b[0m \u001b[32m154.8/154.8 kB\u001b[0m \u001b[31m6.2 MB/s\u001b[0m eta \u001b[36m0:00:00\u001b[0m\n",
            "\u001b[2K   \u001b[90m━━━━━━━━━━━━━━━━━━━━━━━━━━━━━━━━━━━━━━━━\u001b[0m \u001b[32m363.4/363.4 MB\u001b[0m \u001b[31m2.5 MB/s\u001b[0m eta \u001b[36m0:00:00\u001b[0m\n",
            "\u001b[2K   \u001b[90m━━━━━━━━━━━━━━━━━━━━━━━━━━━━━━━━━━━━━━━━\u001b[0m \u001b[32m13.8/13.8 MB\u001b[0m \u001b[31m69.6 MB/s\u001b[0m eta \u001b[36m0:00:00\u001b[0m\n",
            "\u001b[2K   \u001b[90m━━━━━━━━━━━━━━━━━━━━━━━━━━━━━━━━━━━━━━━━\u001b[0m \u001b[32m24.6/24.6 MB\u001b[0m \u001b[31m87.4 MB/s\u001b[0m eta \u001b[36m0:00:00\u001b[0m\n",
            "\u001b[2K   \u001b[90m━━━━━━━━━━━━━━━━━━━━━━━━━━━━━━━━━━━━━━━━\u001b[0m \u001b[32m883.7/883.7 kB\u001b[0m \u001b[31m54.9 MB/s\u001b[0m eta \u001b[36m0:00:00\u001b[0m\n",
            "\u001b[2K   \u001b[90m━━━━━━━━━━━━━━━━━━━━━━━━━━━━━━━━━━━━━━━━\u001b[0m \u001b[32m664.8/664.8 MB\u001b[0m \u001b[31m2.9 MB/s\u001b[0m eta \u001b[36m0:00:00\u001b[0m\n",
            "\u001b[2K   \u001b[90m━━━━━━━━━━━━━━━━━━━━━━━━━━━━━━━━━━━━━━━━\u001b[0m \u001b[32m211.5/211.5 MB\u001b[0m \u001b[31m6.1 MB/s\u001b[0m eta \u001b[36m0:00:00\u001b[0m\n",
            "\u001b[2K   \u001b[90m━━━━━━━━━━━━━━━━━━━━━━━━━━━━━━━━━━━━━━━━\u001b[0m \u001b[32m56.3/56.3 MB\u001b[0m \u001b[31m15.3 MB/s\u001b[0m eta \u001b[36m0:00:00\u001b[0m\n",
            "\u001b[2K   \u001b[90m━━━━━━━━━━━━━━━━━━━━━━━━━━━━━━━━━━━━━━━━\u001b[0m \u001b[32m127.9/127.9 MB\u001b[0m \u001b[31m7.7 MB/s\u001b[0m eta \u001b[36m0:00:00\u001b[0m\n",
            "\u001b[2K   \u001b[90m━━━━━━━━━━━━━━━━━━━━━━━━━━━━━━━━━━━━━━━━\u001b[0m \u001b[32m207.5/207.5 MB\u001b[0m \u001b[31m6.5 MB/s\u001b[0m eta \u001b[36m0:00:00\u001b[0m\n",
            "\u001b[2K   \u001b[90m━━━━━━━━━━━━━━━━━━━━━━━━━━━━━━━━━━━━━━━━\u001b[0m \u001b[32m21.1/21.1 MB\u001b[0m \u001b[31m75.6 MB/s\u001b[0m eta \u001b[36m0:00:00\u001b[0m\n",
            "\u001b[?25h"
          ]
        }
      ]
    },
    {
      "cell_type": "code",
      "source": [
        "import segmentation_models_pytorch as smp\n",
        "\n",
        "# UNet++\n",
        "unetpp_model = smp.UnetPlusPlus(\n",
        "    encoder_name=\"resnet34\", encoder_weights=\"imagenet\",\n",
        "    in_channels=3, classes=1, activation=None\n",
        ")\n",
        "\n",
        "# DeepLabV3+\n",
        "deeplabv3p_model = smp.DeepLabV3Plus(\n",
        "    encoder_name=\"resnet34\", encoder_weights=\"imagenet\",\n",
        "    in_channels=3, classes=1, activation=None\n",
        ")\n",
        "\n",
        "device = torch.device(\"cuda\" if torch.cuda.is_available() else \"cpu\")\n",
        "unetpp_model = unetpp_model.to(device)\n",
        "deeplabv3p_model = deeplabv3p_model.to(device)\n"
      ],
      "metadata": {
        "colab": {
          "base_uri": "https://localhost:8080/",
          "height": 205,
          "referenced_widgets": [
            "3f9d39da6ed744fbac831e4701bd4c1d",
            "e143ae417de641c0a04e3ecd6695f18e",
            "09a5e2aa9d444fdca12b7c58be9cc0b7",
            "b71fbd7875cb4daf8890f18a3372f663",
            "de2beab06bfa4634a100709f9cc4ba88",
            "4008e5b35e924d8ea3bdd743f63e553a",
            "e8104ac83b204ddb8357635909efdbe1",
            "5f5193a2211d4fbfbe2f3aab14a9e3fc",
            "db2ecfe0de6c466fb364347c488ddf34",
            "c06577dd9e21431baae1d18a18bcf14e",
            "2bf5ae6c3438427eb1fc2c31e1fdef7c",
            "5ad3e48a706644aba43112f8d426d12e",
            "442360feb19c4803a100e4d67950bf21",
            "d5c7f02ee1f44f208a03f84348ad51ca",
            "cdb6e50246dc47d2a5238f0a31594a23",
            "7623aa9444e246a3a6e279df3eade5b3",
            "7cef5b7ebdb348bc8a929d14c3f099eb",
            "26022e27bc2a4dbab50a068b69990d0e",
            "4f5e3a0012174bcd9bf34279a04fe1e0",
            "978b0a330e4c4bc198284c964771d323",
            "91faf6e94b984aad9e6dda2ce16a5b1c",
            "91086a2c0f234c459bcc5c39e93e3453"
          ]
        },
        "id": "Ir4rVgE5Cls2",
        "outputId": "3848a7dc-de42-4402-fcc3-634643fe0f04"
      },
      "execution_count": null,
      "outputs": [
        {
          "output_type": "stream",
          "name": "stderr",
          "text": [
            "/usr/local/lib/python3.11/dist-packages/huggingface_hub/utils/_auth.py:94: UserWarning: \n",
            "The secret `HF_TOKEN` does not exist in your Colab secrets.\n",
            "To authenticate with the Hugging Face Hub, create a token in your settings tab (https://huggingface.co/settings/tokens), set it as secret in your Google Colab and restart your session.\n",
            "You will be able to reuse this secret in all of your notebooks.\n",
            "Please note that authentication is recommended but still optional to access public models or datasets.\n",
            "  warnings.warn(\n"
          ]
        },
        {
          "output_type": "display_data",
          "data": {
            "text/plain": [
              "config.json:   0%|          | 0.00/156 [00:00<?, ?B/s]"
            ],
            "application/vnd.jupyter.widget-view+json": {
              "version_major": 2,
              "version_minor": 0,
              "model_id": "3f9d39da6ed744fbac831e4701bd4c1d"
            }
          },
          "metadata": {}
        },
        {
          "output_type": "display_data",
          "data": {
            "text/plain": [
              "model.safetensors:   0%|          | 0.00/87.3M [00:00<?, ?B/s]"
            ],
            "application/vnd.jupyter.widget-view+json": {
              "version_major": 2,
              "version_minor": 0,
              "model_id": "5ad3e48a706644aba43112f8d426d12e"
            }
          },
          "metadata": {}
        }
      ]
    },
    {
      "cell_type": "code",
      "source": [
        "!pip install nibabel --quiet\n"
      ],
      "metadata": {
        "id": "kdbEebJOHTNb"
      },
      "execution_count": null,
      "outputs": []
    },
    {
      "cell_type": "code",
      "source": [
        "import os\n",
        "import numpy as np\n",
        "import nibabel as nib\n",
        "from torch.utils.data import Dataset, DataLoader\n",
        "from torchvision import transforms\n",
        "\n",
        "class BraTSDataset2D(Dataset):\n",
        "    def __init__(self, flair_paths, seg_paths, transform=None):\n",
        "        self.flair_paths = flair_paths\n",
        "        self.seg_paths = seg_paths\n",
        "        self.transform = transform\n",
        "\n",
        "        # List all (image idx, slice idx) pairs for sampling\n",
        "        self.pairs = []\n",
        "        for i, flair_path in enumerate(flair_paths):\n",
        "            img = nib.load(flair_path).get_fdata()\n",
        "            for z in range(img.shape[2]):  # Use all axial slices\n",
        "                self.pairs.append((i, z))\n",
        "\n",
        "    def __len__(self):\n",
        "        return len(self.pairs)\n",
        "\n",
        "    def __getitem__(self, idx):\n",
        "        img_idx, z = self.pairs[idx]\n",
        "        flair = nib.load(self.flair_paths[img_idx]).get_fdata()\n",
        "        seg = nib.load(self.seg_paths[img_idx]).get_fdata()\n",
        "\n",
        "        # Normalize FLAIR and resize to 256x256\n",
        "        img_slice = flair[..., z]\n",
        "        seg_slice = seg[..., z]\n",
        "        img_slice = (img_slice - img_slice.min()) / (img_slice.max() - img_slice.min() + 1e-8)\n",
        "\n",
        "        # Stack to 3 channels for pretrained nets\n",
        "        img_slice = np.stack([img_slice]*3, axis=-1)\n",
        "\n",
        "        # Resize\n",
        "        img_slice = cv2.resize(img_slice, (256,256))\n",
        "        seg_slice = cv2.resize(seg_slice, (256,256), interpolation=cv2.INTER_NEAREST)\n",
        "        seg_slice = (seg_slice > 0).astype(np.uint8)  # Binarize\n",
        "\n",
        "        # Transform to tensor\n",
        "        if self.transform:\n",
        "            img_slice = self.transform(img_slice)\n",
        "        else:\n",
        "            img_slice = torch.tensor(img_slice.transpose(2,0,1), dtype=torch.float32)\n",
        "        seg_slice = torch.tensor(seg_slice, dtype=torch.float32).unsqueeze(0)\n",
        "        return img_slice, seg_slice\n"
      ],
      "metadata": {
        "id": "ZhaZuFp_HTP4"
      },
      "execution_count": null,
      "outputs": []
    },
    {
      "cell_type": "code",
      "source": [
        "import cv2\n",
        "\n",
        "from glob import glob\n",
        "from sklearn.model_selection import train_test_split\n",
        "\n",
        "MRI_ROOT = \"/content/drive/MyDrive/brain_tumor_project/MRI/BraTS2020_TrainingData/MICCAI_BraTS2020_TrainingData/\"\n",
        "mri_images = sorted(glob(os.path.join(MRI_ROOT, \"*_flair.nii\")))\n",
        "mri_labels = sorted(glob(os.path.join(MRI_ROOT, \"*_seg.nii\")))\n",
        "\n",
        "train_imgs, val_imgs, train_masks, val_masks = train_test_split(\n",
        "    mri_images, mri_labels, test_size=0.1, random_state=42\n",
        ")\n",
        "\n",
        "train_ds = BraTSDataset2D(train_imgs, train_masks)\n",
        "val_ds = BraTSDataset2D(val_imgs, val_masks)\n",
        "\n",
        "train_loader = DataLoader(train_ds, batch_size=4, shuffle=True, num_workers=2)\n",
        "val_loader = DataLoader(val_ds, batch_size=1, shuffle=False)\n"
      ],
      "metadata": {
        "id": "9Sor--3nHTSN"
      },
      "execution_count": null,
      "outputs": []
    },
    {
      "cell_type": "code",
      "source": [
        "import segmentation_models_pytorch as smp\n",
        "import torch\n",
        "\n",
        "device = torch.device('cuda' if torch.cuda.is_available() else 'cpu')\n",
        "\n",
        "unetpp_model = smp.UnetPlusPlus(\n",
        "    encoder_name=\"resnet34\", encoder_weights=\"imagenet\",\n",
        "    in_channels=3, classes=1, activation=None\n",
        ").to(device)\n",
        "\n",
        "deeplabv3p_model = smp.DeepLabV3Plus(\n",
        "    encoder_name=\"resnet34\", encoder_weights=\"imagenet\",\n",
        "    in_channels=3, classes=1, activation=None\n",
        ").to(device)\n"
      ],
      "metadata": {
        "id": "QwwAzsGgHTVr"
      },
      "execution_count": null,
      "outputs": []
    },
    {
      "cell_type": "code",
      "source": [
        "from torch.utils.data import Subset\n",
        "import random\n",
        "\n",
        "# Use only 10 samples for quick test (adjust as needed)\n",
        "n_samples = 10\n",
        "idxs = random.sample(range(len(train_ds)), min(n_samples, len(train_ds)))\n",
        "quick_train_ds = Subset(train_ds, idxs)\n",
        "quick_train_loader = DataLoader(quick_train_ds, batch_size=2, shuffle=True)\n",
        "\n",
        "idxs_val = random.sample(range(len(val_ds)), min(n_samples, len(val_ds)))\n",
        "quick_val_ds = Subset(val_ds, idxs_val)\n",
        "quick_val_loader = DataLoader(quick_val_ds, batch_size=1, shuffle=False)\n"
      ],
      "metadata": {
        "id": "b_A2ocqIClwE"
      },
      "execution_count": null,
      "outputs": []
    },
    {
      "cell_type": "code",
      "source": [
        "import random\n",
        "from torch.utils.data import Subset, DataLoader\n"
      ],
      "metadata": {
        "id": "UgcdF2YDCInY"
      },
      "execution_count": null,
      "outputs": []
    },
    {
      "cell_type": "code",
      "source": [
        "# Set a fixed seed for reproducibility (optional)\n",
        "random.seed(42)\n",
        "\n",
        "n_train = min(10, len(train_ds))  # Use 10 samples or less if not enough\n",
        "n_val = min(5, len(val_ds))      # Use 5 samples or less\n",
        "\n",
        "train_indices = random.sample(range(len(train_ds)), n_train)\n",
        "val_indices = random.sample(range(len(val_ds)), n_val)\n",
        "\n",
        "quick_train_ds = Subset(train_ds, train_indices)\n",
        "quick_val_ds = Subset(val_ds, val_indices)\n",
        "\n",
        "quick_train_loader = DataLoader(quick_train_ds, batch_size=2, shuffle=True)\n",
        "quick_val_loader = DataLoader(quick_val_ds, batch_size=1, shuffle=False)\n"
      ],
      "metadata": {
        "id": "HhiS_IhMCIp-"
      },
      "execution_count": null,
      "outputs": []
    },
    {
      "cell_type": "code",
      "source": [
        "import torch\n",
        "import torch.nn as nn\n",
        "import torch.optim as optim\n",
        "import numpy as np\n",
        "\n",
        "def train_unetpp(unetpp_model, train_loader, val_loader, device, num_epochs=5):\n",
        "    print(\"Training UNet++ ...\")\n",
        "    criterion = nn.BCEWithLogitsLoss()\n",
        "    optimizer = optim.Adam(unetpp_model.parameters(), lr=1e-3)\n",
        "    for epoch in range(num_epochs):\n",
        "        unetpp_model.train()\n",
        "        epoch_loss = 0\n",
        "        for imgs, masks in train_loader:\n",
        "            imgs, masks = imgs.to(device), masks.to(device)\n",
        "            optimizer.zero_grad()\n",
        "            outputs = unetpp_model(imgs).squeeze(1)\n",
        "            loss = criterion(outputs, masks.squeeze(1))\n",
        "            loss.backward()\n",
        "            optimizer.step()\n",
        "            epoch_loss += loss.item()\n",
        "        print(f\"[UNet++] Epoch {epoch+1}/{num_epochs}, Train Loss: {epoch_loss/len(train_loader):.4f}\")\n",
        "\n",
        "        # Validation with all metrics\n",
        "        evaluate_segmentation_model(unetpp_model, val_loader, device, model_name=\"UNet++\")\n",
        "\n",
        "def evaluate_segmentation_model(model, val_loader, device, model_name=\"Model\"):\n",
        "    model.eval()\n",
        "    dices, ious, accs = [], [], []\n",
        "    with torch.no_grad():\n",
        "        for imgs, masks in val_loader:\n",
        "            imgs, masks = imgs.to(device), masks.to(device)\n",
        "            outputs = model(imgs)\n",
        "            preds = torch.sigmoid(outputs)\n",
        "            preds = (preds > 0.5).float()\n",
        "            # Dice\n",
        "            intersection = (preds * masks).sum().item()\n",
        "            dice = (2. * intersection) / (preds.sum().item() + masks.sum().item() + 1e-8)\n",
        "            dices.append(dice)\n",
        "            # IoU\n",
        "            union = ((preds + masks) > 0).sum().item()\n",
        "            iou = intersection / (union + 1e-8)\n",
        "            ious.append(iou)\n",
        "            # Pixel Accuracy\n",
        "            acc = (preds == masks).float().mean().item()\n",
        "            accs.append(acc)\n",
        "    print(f\"[{model_name}] Val Dice: {np.nanmean(dices):.4f}\")\n",
        "    print(f\"[{model_name}] Val IoU: {np.nanmean(ious):.4f}\")\n",
        "    print(f\"[{model_name}] Val Accuracy: {np.nanmean(accs):.4f}\")\n",
        "    return np.nanmean(dices), np.nanmean(ious), np.nanmean(accs)\n",
        "\n",
        "# Run this for UNet++ (use quick loaders for fast test):\n",
        "train_unetpp(unetpp_model, quick_train_loader, quick_val_loader, device, num_epochs=5)\n"
      ],
      "metadata": {
        "colab": {
          "base_uri": "https://localhost:8080/"
        },
        "id": "POuPBLeNX7dq",
        "outputId": "938871d6-f3f2-4e75-83c6-dd1c9d6497a1"
      },
      "execution_count": null,
      "outputs": [
        {
          "output_type": "stream",
          "name": "stdout",
          "text": [
            "Training UNet++ ...\n",
            "[UNet++] Epoch 1/5, Train Loss: 0.0072\n",
            "[UNet++] Val Dice: 0.5328\n",
            "[UNet++] Val IoU: 0.4793\n",
            "[UNet++] Val Accuracy: 0.9978\n",
            "[UNet++] Epoch 2/5, Train Loss: 0.0054\n",
            "[UNet++] Val Dice: 0.5421\n",
            "[UNet++] Val IoU: 0.4947\n",
            "[UNet++] Val Accuracy: 0.9982\n",
            "[UNet++] Epoch 3/5, Train Loss: 0.0044\n",
            "[UNet++] Val Dice: 0.5374\n",
            "[UNet++] Val IoU: 0.4883\n",
            "[UNet++] Val Accuracy: 0.9984\n",
            "[UNet++] Epoch 4/5, Train Loss: 0.0053\n",
            "[UNet++] Val Dice: 0.5374\n",
            "[UNet++] Val IoU: 0.4886\n",
            "[UNet++] Val Accuracy: 0.9985\n",
            "[UNet++] Epoch 5/5, Train Loss: 0.0044\n",
            "[UNet++] Val Dice: 0.5455\n",
            "[UNet++] Val IoU: 0.5007\n",
            "[UNet++] Val Accuracy: 0.9986\n"
          ]
        }
      ]
    },
    {
      "cell_type": "code",
      "source": [
        "import torch.nn as nn\n",
        "import torch.optim as optim\n",
        "\n",
        "def train_deeplabv3(model, train_loader, val_loader, num_epochs=1):\n",
        "    print(\"Training DeepLabV3+ ...\")\n",
        "    criterion = nn.BCEWithLogitsLoss()\n",
        "    optimizer = optim.Adam(model.parameters(), lr=1e-3)\n",
        "    model.train()\n",
        "    for epoch in range(num_epochs):\n",
        "        epoch_loss = 0\n",
        "        for imgs, masks in train_loader:\n",
        "            imgs, masks = imgs.to(device), masks.to(device)\n",
        "            optimizer.zero_grad()\n",
        "            outputs = model(imgs).squeeze(1)\n",
        "            loss = criterion(outputs, masks.squeeze(1))\n",
        "            loss.backward()\n",
        "            optimizer.step()\n",
        "            epoch_loss += loss.item()\n",
        "        print(f\"[DeepLabV3+] Epoch {epoch+1}/{num_epochs}, Train Loss: {epoch_loss/len(train_loader):.4f}\")\n",
        "\n",
        "        # Validation metrics\n",
        "        model.eval()\n",
        "        dices = []\n",
        "        ious = []\n",
        "        accs = []\n",
        "        with torch.no_grad():\n",
        "            for imgs, masks in val_loader:\n",
        "                imgs, masks = imgs.to(device), masks.to(device)\n",
        "                outputs = model(imgs)\n",
        "                preds = torch.sigmoid(outputs)\n",
        "                preds = (preds > 0.5).float()\n",
        "                # Dice\n",
        "                intersection = (preds * masks).sum().item()\n",
        "                dice = (2. * intersection) / (preds.sum().item() + masks.sum().item() + 1e-8)\n",
        "                dices.append(dice)\n",
        "                # IoU\n",
        "                union = ((preds + masks) > 0).sum().item()\n",
        "                iou = intersection / (union + 1e-8)\n",
        "                ious.append(iou)\n",
        "                # Accuracy\n",
        "                acc = (preds == masks).float().mean().item()\n",
        "                accs.append(acc)\n",
        "        print(f\"[DeepLabV3+] Val Dice: {np.nanmean(dices):.4f}\")\n",
        "        print(f\"[DeepLabV3+] Val IoU: {np.nanmean(ious):.4f}\")\n",
        "        print(f\"[DeepLabV3+] Val Accuracy: {np.nanmean(accs):.4f}\")\n",
        "\n",
        "# Quick test (change to your actual quick_train_loader if you defined one)\n",
        "train_deeplabv3(deeplabv3p_model, quick_train_loader, quick_val_loader, num_epochs=5)\n"
      ],
      "metadata": {
        "colab": {
          "base_uri": "https://localhost:8080/"
        },
        "id": "K1TUxOhsVHhx",
        "outputId": "ec111ab1-e3c7-46d4-fde4-cd83a371b071"
      },
      "execution_count": null,
      "outputs": [
        {
          "output_type": "stream",
          "name": "stdout",
          "text": [
            "Training DeepLabV3+ ...\n",
            "[DeepLabV3+] Epoch 1/5, Train Loss: 0.3656\n",
            "[DeepLabV3+] Val Dice: 0.0000\n",
            "[DeepLabV3+] Val IoU: 0.0000\n",
            "[DeepLabV3+] Val Accuracy: 0.9909\n",
            "[DeepLabV3+] Epoch 2/5, Train Loss: 431.4976\n",
            "[DeepLabV3+] Val Dice: 0.0000\n",
            "[DeepLabV3+] Val IoU: 0.0000\n",
            "[DeepLabV3+] Val Accuracy: 0.9909\n",
            "[DeepLabV3+] Epoch 3/5, Train Loss: 0.4629\n",
            "[DeepLabV3+] Val Dice: 0.0000\n",
            "[DeepLabV3+] Val IoU: 0.0000\n",
            "[DeepLabV3+] Val Accuracy: 0.9909\n",
            "[DeepLabV3+] Epoch 4/5, Train Loss: 0.1759\n",
            "[DeepLabV3+] Val Dice: 0.0000\n",
            "[DeepLabV3+] Val IoU: 0.0000\n",
            "[DeepLabV3+] Val Accuracy: 0.9909\n",
            "[DeepLabV3+] Epoch 5/5, Train Loss: 0.1981\n",
            "[DeepLabV3+] Val Dice: 0.0000\n",
            "[DeepLabV3+] Val IoU: 0.0000\n",
            "[DeepLabV3+] Val Accuracy: 0.9909\n"
          ]
        }
      ]
    },
    {
      "cell_type": "code",
      "source": [],
      "metadata": {
        "id": "nWgo2pGyVHm4"
      },
      "execution_count": null,
      "outputs": []
    },
    {
      "cell_type": "code",
      "source": [],
      "metadata": {
        "id": "Q518MggNVHqU"
      },
      "execution_count": null,
      "outputs": []
    },
    {
      "cell_type": "code",
      "source": [],
      "metadata": {
        "id": "DSfNZRcKCIvy"
      },
      "execution_count": null,
      "outputs": []
    }
  ]
}